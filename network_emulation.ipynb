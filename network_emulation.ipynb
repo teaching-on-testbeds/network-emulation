{
 "cells": [
  {
   "cell_type": "markdown",
   "metadata": {},
   "source": [
    "# Emulating network impairments\n",
    "\n",
    "When we do experiments involving computer networks, we often want to “mimic” specific network scenarios. For example, we might want to “mimic” a satellite wireless network (which tends to have low data rate and very large delay), or a fiber optic wired network link (which tends to have high data rate and small delay). Even when the specific network we want to “mimic” is not available to us for experimentation, we can use a technique called *network emulation* to make any existing network have the desired characteristics.\n",
    "\n",
    "This notebook will show you how to:\n",
    "\n",
    "-   launch three VMs with network connectivity in a line topology\n",
    "-   attach a public IP address to each VM, so that you can access it over SSH\n",
    "-   configure the VM interfaces on the “experiment” network\n",
    "-   measure the characteristics of the pre-existing network\n",
    "-   emulate different network conditions (packet loss, delay, jitter, data rate) over this link\n",
    "-   delete resources"
   ],
   "id": "e764266e-f380-41a3-9353-d4045492b925"
  },
  {
   "cell_type": "markdown",
   "metadata": {},
   "source": [
    "## Launch three VMs in a line\n",
    "\n",
    "In this exercise, we will reserve resources on KVM@TACC: two hosts (VMs) on two different network segments, connected by a router (also a VM).\n",
    "\n",
    "When we send data from one host to the other, that data will go *through* the router."
   ],
   "id": "b5e5ca54-43d6-43b5-afbf-dbeed6711aba"
  },
  {
   "cell_type": "markdown",
   "metadata": {},
   "source": [
    "First, we load some required libraries:"
   ],
   "id": "0624109e-ac8b-40c4-81a0-3b560344dc22"
  },
  {
   "cell_type": "code",
   "execution_count": null,
   "metadata": {},
   "outputs": [],
   "source": [
    "# enable autoreload magic to pull in updated utils.py \n",
    "%load_ext autoreload\n",
    "%autoreload 2"
   ],
   "id": "61fd644d-8b90-4e51-ac20-c767a1485bbe"
  },
  {
   "cell_type": "code",
   "execution_count": null,
   "metadata": {},
   "outputs": [],
   "source": [
    "import openstack\n",
    "import chi\n",
    "import chi.ssh\n",
    "import os \n",
    "import utils"
   ],
   "id": "3c62c835-4bd1-4dfe-be38-63a0116c6676"
  },
  {
   "cell_type": "markdown",
   "metadata": {},
   "source": [
    "We indicate that we’re going to use the KVM@TACC site. We also need to specify the name of the Chameleon “project: that this experiment is part of. The project name will have the format “CHI-XXXXXX”, where the last part is a 6-digit number, and you can find it on your [user dashboard](https://chameleoncloud.org/user/dashboard/).\n",
    "\n",
    "In the cell below, replace the project ID with your own project ID, then run the cell."
   ],
   "id": "f758fd8a-6f7b-463d-8c12-3aacb6dc3ac8"
  },
  {
   "cell_type": "code",
   "execution_count": null,
   "metadata": {},
   "outputs": [],
   "source": [
    "chi.use_site(\"KVM@TACC\")\n",
    "PROJECT_NAME = \"CHI-XXXXXX\"\n",
    "chi.set(\"project_name\", PROJECT_NAME)\n",
    "\n",
    "# configure openstacksdk for actions unsupported by python-chi\n",
    "os_conn = chi.clients.connection()"
   ],
   "id": "abce674d-ed28-4d9d-ac01-ec9a0c2703a4"
  },
  {
   "cell_type": "markdown",
   "metadata": {},
   "source": [
    "Next, we will create three network links:\n",
    "\n",
    "-   One “public” network link, that we will use to connect to our hosts and router via SSH. The network interfaces on this link will have addresses in the range 192.168.10.X, where X is any integer from 1 to 254.\n",
    "-   One “experiment” network link, that will connect the “romeo” host to the router. The network interfaces on this link will have addresses in the range 10.10.1.X, where X is any integer from 1 to 254.\n",
    "-   One “experiment” network link, that will connect the “juliet” host to the router. The network interfaces on this link will have addresses in the range 10.10.2.X, where X is any integer from 1 to 254.\n",
    "\n",
    "We will make sure the networks have our username as part of the network name, so that we can easily identify them in the KVM@TACC web interface."
   ],
   "id": "f8f7f13b-db81-4b71-8c1d-ce442fc8a9de"
  },
  {
   "cell_type": "code",
   "execution_count": null,
   "metadata": {},
   "outputs": [],
   "source": [
    "# create three networks. One will be used for SSH and API access,\n",
    "# and the other two will be used for experiments. \n",
    "# We need to disable port security on those two experiment networks.\n",
    "\n",
    "username = os.getenv('USER')\n",
    "public_net = utils.ensure_network(os_conn, network_name=\"public-net-\" + username)\n",
    "exp_net_1  = utils.ensure_network(os_conn, network_name=\"exp-net-1-\" + username)\n",
    "exp_net_2  = utils.ensure_network(os_conn, network_name=\"exp-net-2-\" + username)\n",
    "\n",
    "public_subnet = utils.ensure_subnet(\n",
    "    os_conn,\n",
    "    name=\"public-subnet-\" + username,\n",
    "    network_id=public_net.get(\"id\"),\n",
    "    ip_version='4',\n",
    "    cidr=\"192.168.10.0/24\",\n",
    "    gateway_ip=\"192.168.10.1\"\n",
    ")\n",
    "\n",
    "exp_subnet_1 = utils.ensure_subnet(\n",
    "    os_conn,\n",
    "    name=\"exp-subnet-1-\" + username,\n",
    "    network_id=exp_net_1.get(\"id\"),\n",
    "    ip_version='4',\n",
    "    cidr=\"10.10.1.0/24\",\n",
    "    enable_dhcp=True,\n",
    "    gateway_ip=None\n",
    ")\n",
    "\n",
    "exp_subnet_2 = utils.ensure_subnet(\n",
    "    os_conn,\n",
    "    name=\"exp-subnet-2-\" + username,\n",
    "    network_id=exp_net_2.get(\"id\"),\n",
    "    ip_version='4',\n",
    "    cidr=\"10.10.2.0/24\",\n",
    "    enable_dhcp=True,\n",
    "    gateway_ip=None\n",
    ")"
   ],
   "id": "3e92608f-ef61-406e-a503-09ba614d2c94"
  },
  {
   "cell_type": "markdown",
   "metadata": {},
   "source": [
    "We need to configure the two “experiment” links so that they will carry all traffic between the hosts - we will need to disable the default security settings on them."
   ],
   "id": "1a9fe3e5-459e-46ae-8bb3-33237a8e0051"
  },
  {
   "cell_type": "code",
   "execution_count": null,
   "metadata": {},
   "outputs": [],
   "source": [
    "netid_1 = exp_net_1['id']\n",
    "netid_2 = exp_net_2['id']"
   ],
   "id": "47f21373-e05b-42f7-b6ee-691e7d25c180"
  },
  {
   "cell_type": "code",
   "execution_count": null,
   "metadata": {},
   "outputs": [],
   "source": [
    "%%bash -s \"$PROJECT_NAME\" \"$netid_1\" \"$netid_2\"\n",
    "export OS_PROJECT_NAME=$1\n",
    "export OS_AUTH_URL=https://kvm.tacc.chameleoncloud.org:5000/v3\n",
    "export OS_REGION_NAME=KVM@TACC\n",
    "access_token=$(curl -s -H\"authorization: token $JUPYTERHUB_API_TOKEN\" \"$JUPYTERHUB_API_URL/users/$JUPYTERHUB_USER\" | jq -r .auth_state.access_token)\n",
    "export OS_ACCESS_TOKEN=\"$access_token\"\n",
    "\n",
    "openstack network set --disable-port-security $2\n",
    "openstack network set --disable-port-security $3"
   ],
   "id": "b74afacc-cad0-4476-b7e6-192db669d8ef"
  },
  {
   "cell_type": "markdown",
   "metadata": {},
   "source": [
    "Now, we will create the three VMs - romeo, juliet, and router, with a network interface on the appropriate links."
   ],
   "id": "fd51de1e-eee7-4e2f-bbb2-e16be6def98d"
  },
  {
   "cell_type": "code",
   "execution_count": null,
   "metadata": {},
   "outputs": [],
   "source": [
    "# Now, create three VMs - romeo, juliet, and router\n",
    "\n",
    "image_uuid = os_conn.image.find_image(\"CC-Ubuntu20.04\").id\n",
    "flavor_uuid = os_conn.compute.find_flavor(\"m1.small\").id\n",
    "\n",
    "server_romeo = utils.ensure_server(\n",
    "    os_conn,\n",
    "    name=\"romeo_\" + username,\n",
    "    image_id=image_uuid,\n",
    "    flavor_id=flavor_uuid,\n",
    "    nics=[\n",
    "        {\"net-id\": public_net.get(\"id\"), \"v4-fixed-ip\":\"192.168.10.10\"},\n",
    "        {\"net-id\": netid_1, \"v4-fixed-ip\":\"10.10.1.100\"},\n",
    "    ]\n",
    ")\n",
    "\n",
    "server_juliet = utils.ensure_server(\n",
    "    os_conn,\n",
    "    name=\"juliet_\" + username,\n",
    "    image_id=image_uuid,\n",
    "    flavor_id=flavor_uuid,\n",
    "    nics=[\n",
    "        {\"net-id\": public_net.get(\"id\"), \"v4-fixed-ip\":\"192.168.10.20\"},\n",
    "        {\"net-id\": netid_2, \"v4-fixed-ip\":\"10.10.2.100\"},\n",
    "    ]\n",
    ")\n",
    "\n",
    "server_router = utils.ensure_server(\n",
    "    os_conn,\n",
    "    name=\"router_\" + username,\n",
    "    image_id=image_uuid,\n",
    "    flavor_id=flavor_uuid,\n",
    "    nics=[\n",
    "        {\"net-id\": public_net.get(\"id\"), \"v4-fixed-ip\":\"192.168.10.30\"},\n",
    "        {\"net-id\": netid_1, \"v4-fixed-ip\":\"10.10.1.10\"},\n",
    "        {\"net-id\": netid_2, \"v4-fixed-ip\":\"10.10.2.10\"},\n",
    "    ]\n",
    ")"
   ],
   "id": "c4226be5-cdf7-4fab-9919-55ca24a6417d"
  },
  {
   "cell_type": "code",
   "execution_count": null,
   "metadata": {},
   "outputs": [],
   "source": [
    "romeo_id  = chi.server.get_server('romeo_' + username).id\n",
    "juliet_id = chi.server.get_server('juliet_' + username).id\n",
    "router_id = chi.server.get_server('router_' + username).id"
   ],
   "id": "734d33d4-be96-49a1-aa24-8dd00dd5e2c9"
  },
  {
   "cell_type": "markdown",
   "metadata": {},
   "source": [
    "We will wait for our VMs to come up:"
   ],
   "id": "572aa9a6-ae1b-4bf0-b745-874387fe2702"
  },
  {
   "cell_type": "code",
   "execution_count": null,
   "metadata": {},
   "outputs": [],
   "source": [
    "chi.server.wait_for_active(romeo_id)\n",
    "chi.server.wait_for_active(juliet_id)\n",
    "chi.server.wait_for_active(router_id)"
   ],
   "id": "c0e0cfab-d735-4bea-96d5-d9e2922b9f9f"
  },
  {
   "cell_type": "markdown",
   "metadata": {},
   "source": [
    "## Attach an address for SSH access"
   ],
   "id": "81081bca-6f5c-4585-a4c9-1ec8a7ac58e5"
  },
  {
   "cell_type": "markdown",
   "metadata": {},
   "source": [
    "Next, we will set up SSH access to the VMs.\n",
    "\n",
    "First, we will make sure the “public” network is connected to the Internet."
   ],
   "id": "e4916f4e-5aed-49f6-b8aa-b92129eec162"
  },
  {
   "cell_type": "code",
   "execution_count": null,
   "metadata": {},
   "outputs": [],
   "source": [
    "# connect them to the Internet on the \"public\" network (e.g. for software installation)\n",
    "router = chi.network.create_router('inet-router-' + username, gw_network_name='public')\n",
    "chi.network.add_subnet_to_router(router.get(\"id\"), public_subnet.get(\"id\"))"
   ],
   "id": "709c62b2-0f05-46a9-a5f4-cfd2911fcc9d"
  },
  {
   "cell_type": "code",
   "execution_count": null,
   "metadata": {},
   "outputs": [],
   "source": [
    "# prepare SSH access on the three servers\n",
    "fip_romeo = chi.server.associate_floating_ip(romeo_id)\n",
    "fip_juliet = chi.server.associate_floating_ip(juliet_id)\n",
    "fip_router = chi.server.associate_floating_ip(router_id)"
   ],
   "id": "c52839cd-0a19-46c8-8688-5c448522732b"
  },
  {
   "cell_type": "markdown",
   "metadata": {},
   "source": [
    "Note: The following cell assumes that a security group named “Allow SSH” already exists in your project, and is configured to allow SSH access on port 22. If you have done the “Hello, Chameleon” experiment then you already have this security group."
   ],
   "id": "fb65acc4-63da-4148-b25b-e1a1327ac5a7"
  },
  {
   "cell_type": "code",
   "execution_count": null,
   "metadata": {},
   "outputs": [],
   "source": [
    "[port_id_1, port_id_2, port_id_3 ] = [port['id'] for port in chi.network.list_ports() if port['port_security_enabled'] and port['network_id']==public_net.get(\"id\")]\n",
    "security_group_id = os_conn.get_security_group(\"Allow SSH\").id"
   ],
   "id": "29170a80-aff4-416d-9a27-90613ddfdeda"
  },
  {
   "cell_type": "code",
   "execution_count": null,
   "metadata": {},
   "outputs": [],
   "source": [
    "%%bash -s \"$PROJECT_NAME\" \"$security_group_id\" \"$port_id_1\" \"$port_id_2\" \"$port_id_3\" \n",
    "\n",
    "export OS_PROJECT_NAME=$1\n",
    "export OS_AUTH_URL=https://kvm.tacc.chameleoncloud.org:5000/v3\n",
    "export OS_REGION_NAME=KVM@TACC\n",
    "access_token=$(curl -s -H\"authorization: token $JUPYTERHUB_API_TOKEN\"     \"$JUPYTERHUB_API_URL/users/$JUPYTERHUB_USER\"     | jq -r .auth_state.access_token)\n",
    "export OS_ACCESS_TOKEN=\"$access_token\"\n",
    "\n",
    "openstack port set \"$3\" --security-group \"$2\"\n",
    "openstack port set \"$4\" --security-group \"$2\"\n",
    "openstack port set \"$5\" --security-group \"$2\""
   ],
   "id": "072bf9e6-a5d7-4851-bfc6-72a0ee128762"
  },
  {
   "cell_type": "markdown",
   "metadata": {},
   "source": [
    "Also copy your account keys to all of the resources:"
   ],
   "id": "91736b3d-6f7c-43f3-93cf-f43df430d3fb"
  },
  {
   "cell_type": "code",
   "execution_count": null,
   "metadata": {},
   "outputs": [],
   "source": [
    "remote_router = chi.ssh.Remote(fip_router) \n",
    "remote_romeo = chi.ssh.Remote(fip_romeo) \n",
    "remote_juliet = chi.ssh.Remote(fip_juliet) "
   ],
   "id": "9e340fbf-bf1c-4d67-a8ba-83a7a6256f12"
  },
  {
   "cell_type": "code",
   "execution_count": null,
   "metadata": {},
   "outputs": [],
   "source": [
    "nova=chi.clients.nova()\n",
    "# iterate over all keypairs in this account\n",
    "for kp in nova.keypairs.list(): \n",
    "    public_key = nova.keypairs.get(kp.name).public_key \n",
    "    remote_router.run(f\"echo {public_key} >> ~/.ssh/authorized_keys\") \n",
    "    remote_romeo.run(f\"echo {public_key} >> ~/.ssh/authorized_keys\") \n",
    "    remote_juliet.run(f\"echo {public_key} >> ~/.ssh/authorized_keys\") "
   ],
   "id": "a8d8edc6-6835-4b7b-a230-abf841556fe7"
  },
  {
   "cell_type": "markdown",
   "metadata": {},
   "source": [
    "At this point, we should be able to log in to our resources over SSH! Run the following cells, and observe the output - you will see an SSH command for each of the nodes in your topology."
   ],
   "id": "b29ab532-0b75-45b3-a708-44588daf8b84"
  },
  {
   "cell_type": "code",
   "execution_count": null,
   "metadata": {},
   "outputs": [],
   "source": [
    "# for romeo:\n",
    "print(f\"ssh cc@{fip_romeo}\")"
   ],
   "id": "6471b1f5-c9af-45b1-8a9d-243751eb7183"
  },
  {
   "cell_type": "code",
   "execution_count": null,
   "metadata": {},
   "outputs": [],
   "source": [
    "# for juliet:\n",
    "print(f\"ssh cc@{fip_juliet}\")"
   ],
   "id": "06fa4963-92f5-414b-831f-70404a3908d4"
  },
  {
   "cell_type": "code",
   "execution_count": null,
   "metadata": {},
   "outputs": [],
   "source": [
    "# for router:\n",
    "print(f\"ssh cc@{fip_router}\")"
   ],
   "id": "af2deb64-f0c2-4019-a5dd-938e8958c5b1"
  },
  {
   "cell_type": "markdown",
   "metadata": {},
   "source": [
    "Now, you can open an SSH session on any of the nodes as follows:\n",
    "\n",
    "-   In Jupyter, from the menu bar, use File \\> New \\> Terminal to open a new terminal.\n",
    "-   Copy an SSH command from the output above, and paste it into the terminal.\n",
    "\n",
    "You can repeat this process (open several terminals) to start a session on each host and the router. Each terminal session will have a tab in the Jupyter environment, so that you can easily switch between them.\n",
    "\n",
    "Alternatively, you can use your local terminal to log on to each host and the router, if you prefer."
   ],
   "id": "d6e370d7-6d57-4352-a14c-d094a65f681d"
  },
  {
   "cell_type": "markdown",
   "metadata": {},
   "source": [
    "## Configure interfaces on the experiment network"
   ],
   "id": "731c9214-953d-4156-bfd2-73d08d3594d4"
  },
  {
   "cell_type": "markdown",
   "metadata": {},
   "source": [
    "Next, we need to configure our resources - assign addresses to network interfaces, enable forwarding on the router, and install any necessary software."
   ],
   "id": "5df25684-dc32-41b4-9949-7cf25c0edee5"
  },
  {
   "cell_type": "code",
   "execution_count": null,
   "metadata": {},
   "outputs": [],
   "source": [
    "# configure the router to forward traffic\n",
    "remote_router.run(f\"sudo sysctl -w net.ipv4.ip_forward=1\") \n",
    "remote_router.run(f\"sudo ufw disable\") "
   ],
   "id": "73cdd780-a891-49b6-949b-03bf5b60d8ff"
  },
  {
   "cell_type": "code",
   "execution_count": null,
   "metadata": {},
   "outputs": [],
   "source": [
    "# configure the romeo host\n",
    "remote_romeo.run(f\"sudo ip route add 10.10.2.0/24 via 10.10.1.10\") \n",
    "remote_romeo.run(f\"echo '10.10.2.100 juliet' | sudo tee -a /etc/hosts > /dev/null\") \n",
    "remote_romeo.run(f\"sudo apt update; sudo apt -y install iperf3\") "
   ],
   "id": "5191fb30-05fa-4acd-b620-f5dd4b764112"
  },
  {
   "cell_type": "code",
   "execution_count": null,
   "metadata": {},
   "outputs": [],
   "source": [
    "# configure the juliet host\n",
    "remote_juliet.run(f\"sudo ip route add 10.10.1.0/24 via 10.10.2.10\") \n",
    "remote_juliet.run(f\"echo '10.10.1.100 romeo' | sudo tee -a /etc/hosts > /dev/null\") \n",
    "remote_juliet.run(f\"sudo apt update; sudo apt -y install iperf3\") "
   ],
   "id": "57a76b13-0743-4303-ac76-5612b2aef387"
  },
  {
   "cell_type": "markdown",
   "metadata": {},
   "source": [
    "## Measure the network\n",
    "\n",
    "Next, we are going to measure the characteristics of the existing network -\n",
    "\n",
    "-   what data rate do we observe when we try to send data as fast as possible through the network?\n",
    "-   how much delay is there, and how much delay variation, when we send small `ping` messages across the network and measure the time to receive a response?"
   ],
   "id": "3f28670c-1ef0-45b2-95a6-2f3b9ced3d79"
  },
  {
   "cell_type": "markdown",
   "metadata": {},
   "source": [
    "We will use the `iperf3` command to send data from “romeo” to “juliet” and measure the data rate. First, we’ll set up “juliet” to *receive* one data flow. Then, we’ll ask “romeo” to send a data flow for ten seconds, and report back with an average data rate."
   ],
   "id": "dcb7a93e-7388-4daa-b645-3f4029e042ee"
  },
  {
   "cell_type": "code",
   "execution_count": null,
   "metadata": {},
   "outputs": [],
   "source": [
    "remote_juliet.run('iperf3 -s -1', disown=True)"
   ],
   "id": "c677d115-6ded-4ae6-9b13-02316bb8e6b2"
  },
  {
   "cell_type": "code",
   "execution_count": null,
   "metadata": {},
   "outputs": [],
   "source": [
    "remote_romeo.run('iperf3 -c juliet')"
   ],
   "id": "1de0cd51-99fb-4809-8cae-a2dbc25f6a4f"
  },
  {
   "cell_type": "markdown",
   "metadata": {},
   "source": [
    "Next, we will use the `ping` command to send those `ping` messages (10 of them!) and responses from “romeo” to “juliet”. The output will include the round trip time of each of the ten messages, and at the end, the minimum, average, maximum, and variation of the delay."
   ],
   "id": "2462e6a9-05ee-476e-be3e-79cdc199fc83"
  },
  {
   "cell_type": "code",
   "execution_count": null,
   "metadata": {},
   "outputs": [],
   "source": [
    "remote_romeo.run('ping -c 10 juliet')"
   ],
   "id": "dcc8a7c3-f027-4cfd-8eb7-4bc11db4f2d6"
  },
  {
   "cell_type": "markdown",
   "metadata": {},
   "source": [
    "## Emulate network impairments"
   ],
   "id": "0eaea866-7528-44db-8199-6e6f894a89b0"
  },
  {
   "cell_type": "markdown",
   "metadata": {},
   "source": [
    "Now that we understand the characteristics of the “real” network, we can add network *impairments* that make it mimic other, *worse* networks.\n",
    "\n",
    "Note the word “impairment” - we can make the network *worse* but there is nothing we can do to make it better!\n",
    "\n",
    "For example, if the “real” network is capable of transferring data at 2 Gbps, we can *slow it down* and make it transfer data at only 100 Mbps. But we can’t make it *faster*, so we won’t be able to make it work at 10 Gbps.\n",
    "\n",
    "Similarly, if the delay across the “real” networks is about 1 ms, we can *add* 20 ms of delay to make the overall delay about 20 ms, but we can’t make the delay be *less* than 1 ms."
   ],
   "id": "53a0465a-5139-4596-a2bd-068830d5cc54"
  },
  {
   "cell_type": "markdown",
   "metadata": {},
   "source": [
    "To add network impairments, we will use the Linux traffic control system, `tc`, which can apply various “rules” to all packets *leaving* a network interface. We will apply these rules at the router, since all traffic between “romeo” and “juliet” goes through the router.\n",
    "\n",
    "-   To add additional delay and delay variation to the *round trip time* between “romeo” and “juliet”, we would use `netem` and put *half* of the additional delay on the router interface that is on the same network link as “juliet” (this will apply to data from “romeo” to “juliet”), and the other *half* on the router interface that is on the same network link as “romeo” (this will apply to data from “juliet” to “romeo”). The *round trip delay* is the sum of the delays in each direction.\n",
    "-   To apply random packet loss to the data going from “romeo” *to* “juliet”, we would use `netem` to add loss at the router interface that is on the same network link as “juliet”, since packets going to “juliet” are going to *leave* the router through this interface.\n",
    "-   To slow down the data rate for data going from “romeo” *to*” “juliet”, we would apply a *token bucket* filter at the router interface that is on the same network link as “juliet”, since packets going to “juliet” are going to *leave* the router through this interface.\n",
    "\n",
    "We’ll start by adding these impairments individually, and then we will see how to add these in combination."
   ],
   "id": "4a13402c-975d-4dad-b3b6-699d467612d0"
  },
  {
   "cell_type": "markdown",
   "metadata": {},
   "source": [
    "One important note before we begin: in the commands that follow, we want to apply an impairment to a specific network interface on the router, and we need to refer to the interface by name. The router has multiple network interfaces, two of which are the “experiment” interfaces that we want to modify - we can see them by running `ip addr` on the router:"
   ],
   "id": "eeb61637-ff2a-433e-9478-b6fa8c90ab6d"
  },
  {
   "cell_type": "code",
   "execution_count": null,
   "metadata": {},
   "outputs": [],
   "source": [
    "remote_router.run('ip addr')"
   ],
   "id": "2f4d21de-4616-4923-93e5-55ceb8ca5097"
  },
  {
   "cell_type": "markdown",
   "metadata": {},
   "source": [
    "We don’t know in advance what the interfaces will be named - e.g. in this experiment, the interface that connects the router to the link with “juliet” may be named `ens8` but in the next experiment it could be named `ens4`! But, in the commands that follow, we need to name the interface.\n",
    "\n",
    "Therefore, instead of using an interface name directly in these commands, we will use a command that returns the name of a particular interface. For example, the command"
   ],
   "id": "24e88a82-a5ca-4e6d-bfae-6accf4d289a2"
  },
  {
   "cell_type": "code",
   "execution_count": null,
   "metadata": {},
   "outputs": [],
   "source": [
    "remote_router.run('ip route get 10.10.2.100 | grep -oP \"(?<=dev )[^ ]+\"')"
   ],
   "id": "9a678579-ee1d-4ec7-8559-724fffeed885"
  },
  {
   "cell_type": "markdown",
   "metadata": {},
   "source": [
    "will return the name of the router interface that will be used to forward packets to “juliet” (10.10.2.100), and the command"
   ],
   "id": "6a04f325-0c4f-4f2c-b2da-1b7a980e9649"
  },
  {
   "cell_type": "code",
   "execution_count": null,
   "metadata": {},
   "outputs": [],
   "source": [
    "remote_router.run('ip route get 10.10.1.100 | grep -oP \"(?<=dev )[^ ]+\"')"
   ],
   "id": "3813f727-5845-4dc2-b1f4-ae3ede0bbfaa"
  },
  {
   "cell_type": "markdown",
   "metadata": {},
   "source": [
    "will return the name of the router interface that will be used to forward packets to “romeo” (10.10.1.100). When we use these commands inside a `$()` within another command, the command inside the `$()` is executed and its value is returned and used in the “parent” command. This way, we can specify an interface name in the `tc` commands without even knowing what the interface name is!"
   ],
   "id": "20421568-748b-42aa-8758-2e0672d9f294"
  },
  {
   "cell_type": "markdown",
   "metadata": {},
   "source": [
    "With that in mind, let’s start by deleting any `tc` elements that might already be set up on either of the router interfaces. We specify that we want to delete (`del`) whatever might be there, we specify the name of the network interface (`dev` followed by a command inside `$()` which will be replaced by an interface name!), and we specify that we want to delete everything from the `root` of the interface (in case there is a “chain” of elements applied there!)\n",
    "\n",
    "If there is no `tc` element already applied, then trying to delete it will return an error, but that’s OK!"
   ],
   "id": "fb6cb3be-20d0-4860-837c-312d0b2dde0a"
  },
  {
   "cell_type": "code",
   "execution_count": null,
   "metadata": {},
   "outputs": [],
   "source": [
    "remote_router.run('sudo tc qdisc del dev $(ip route get 10.10.1.100 | grep -oP \"(?<=dev )[^ ]+\") root')"
   ],
   "id": "1d45fba5-2129-4bb2-b77e-67b2e81e775e"
  },
  {
   "cell_type": "code",
   "execution_count": null,
   "metadata": {},
   "outputs": [],
   "source": [
    "remote_router.run('sudo tc qdisc del dev $(ip route get 10.10.2.100 | grep -oP \"(?<=dev )[^ ]+\") root')"
   ],
   "id": "05d774df-24e5-4298-b4b9-0919bea36ef4"
  },
  {
   "cell_type": "markdown",
   "metadata": {},
   "source": [
    "Now, let’s use `netem` to add 10 ms of delay in *each* direction, for a total of 20 ms added to the round trip time.\n",
    "\n",
    "On the router, we will run:"
   ],
   "id": "2578965c-3ed1-4c09-8c8d-4ed2ecb91b56"
  },
  {
   "cell_type": "code",
   "execution_count": null,
   "metadata": {},
   "outputs": [],
   "source": [
    "remote_router.run('sudo tc qdisc add dev $(ip route get 10.10.1.100 | grep -oP \"(?<=dev )[^ ]+\") root netem delay 10ms')"
   ],
   "id": "fefd3cd1-7b9a-4f47-92eb-c153ada85754"
  },
  {
   "cell_type": "code",
   "execution_count": null,
   "metadata": {},
   "outputs": [],
   "source": [
    "remote_router.run('sudo tc qdisc add dev $(ip route get 10.10.2.100 | grep -oP \"(?<=dev )[^ ]+\") root netem delay 10ms')"
   ],
   "id": "4a96e78c-d142-4dc4-acaa-f584f52d0fb2"
  },
  {
   "cell_type": "markdown",
   "metadata": {},
   "source": [
    "To test the change in delay, we will run our `ping` test again, but we’ll make it a little bit longer this time:"
   ],
   "id": "90bf7a4a-44d1-4e7e-aeea-8740c1296417"
  },
  {
   "cell_type": "code",
   "execution_count": null,
   "metadata": {},
   "outputs": [],
   "source": [
    "remote_romeo.run('ping -c 60 juliet')"
   ],
   "id": "cea80c1a-34cb-4930-b278-993cf35e22b2"
  },
  {
   "cell_type": "markdown",
   "metadata": {},
   "source": [
    "Validate that the results now show an additional 20 ms of delay in the round trip time."
   ],
   "id": "98e8db0b-727c-42df-824a-cf0d6c4adf1c"
  },
  {
   "cell_type": "markdown",
   "metadata": {},
   "source": [
    "Instead of adding a constant delay (same delay applied to every packet), we may want to add delay with some *variation*. Let’s *replace* the previous `netem` element with a different one, that also specifies a delay variation (second value after the word `delay`):"
   ],
   "id": "aed585fc-0108-4231-be41-63a7c50e3cf1"
  },
  {
   "cell_type": "code",
   "execution_count": null,
   "metadata": {},
   "outputs": [],
   "source": [
    "remote_router.run('sudo tc qdisc replace dev $(ip route get 10.10.1.100 | grep -oP \"(?<=dev )[^ ]+\") root netem delay 10ms 5ms')"
   ],
   "id": "6083fef3-bd19-4622-a866-beaabdb8d3b0"
  },
  {
   "cell_type": "code",
   "execution_count": null,
   "metadata": {},
   "outputs": [],
   "source": [
    "remote_router.run('sudo tc qdisc replace dev $(ip route get 10.10.2.100 | grep -oP \"(?<=dev )[^ ]+\") root netem delay 10ms 5ms')"
   ],
   "id": "74dae0c3-805b-411b-a703-8e61b626b747"
  },
  {
   "cell_type": "markdown",
   "metadata": {},
   "source": [
    "Validate that the round trip time reported by `ping` now has substantially more variation:"
   ],
   "id": "19da506d-db9d-4035-8c53-d86b47d374ac"
  },
  {
   "cell_type": "code",
   "execution_count": null,
   "metadata": {},
   "outputs": [],
   "source": [
    "remote_romeo.run('ping -c 60 juliet')"
   ],
   "id": "cce1e405-48a2-4ca4-9ccd-55e936043848"
  },
  {
   "cell_type": "markdown",
   "metadata": {},
   "source": [
    "The `netem` element can also be used to add packet loss. Most networks have very little packet loss, but for this example, we’ll make it more extreme - we’ll specify 10% packet loss, which means that 1 out of every 10 packets will be dropped (on average). We will *only* apply this to packets going from “romeo” to “juliet”, not for packets going in the other direction.\n",
    "\n",
    "First, we’ll delete the existing (delay) `netem` elements, then we’ll add one that emulates packet loss:"
   ],
   "id": "6ec445ed-cc7d-4f11-af15-2acf5dd6c868"
  },
  {
   "cell_type": "code",
   "execution_count": null,
   "metadata": {},
   "outputs": [],
   "source": [
    "remote_router.run('sudo tc qdisc del dev $(ip route get 10.10.1.100 | grep -oP \"(?<=dev )[^ ]+\") root')"
   ],
   "id": "b001b50e-b639-4e7a-bef9-035f060e1132"
  },
  {
   "cell_type": "code",
   "execution_count": null,
   "metadata": {},
   "outputs": [],
   "source": [
    "remote_router.run('sudo tc qdisc del dev $(ip route get 10.10.2.100 | grep -oP \"(?<=dev )[^ ]+\") root')"
   ],
   "id": "f8dc4811-a5eb-49d2-a92e-d1027687ef75"
  },
  {
   "cell_type": "code",
   "execution_count": null,
   "metadata": {},
   "outputs": [],
   "source": [
    "remote_router.run('sudo tc qdisc add dev $(ip route get 10.10.2.100 | grep -oP \"(?<=dev )[^ ]+\") root netem loss 10%')"
   ],
   "id": "fac69031-595d-4b51-b723-8d9dff491f15"
  },
  {
   "cell_type": "markdown",
   "metadata": {},
   "source": [
    "Validate that the `ping` results now show packet loss:"
   ],
   "id": "49521806-d0f8-4156-953d-abc3a7ac36c7"
  },
  {
   "cell_type": "code",
   "execution_count": null,
   "metadata": {},
   "outputs": [],
   "source": [
    "remote_romeo.run('ping -c 60 juliet')"
   ],
   "id": "48f869c1-172d-49d6-98f5-fdfbf2b2baa2"
  },
  {
   "cell_type": "markdown",
   "metadata": {},
   "source": [
    "We can specify both `delay` and `loss` together in a `netem`. For example, if we want to delete any existing `tc` elements and then add:\n",
    "\n",
    "-   10ms delay with 5ms variation and 10% packet loss to packets from “romeo” to “juliet”\n",
    "-   and 10ms delay with 5ms variation to packets from “juliet” to “romeo”\n",
    "\n",
    "we could do:"
   ],
   "id": "3dbc3865-8093-44ba-9059-d2c35bd5bfca"
  },
  {
   "cell_type": "code",
   "execution_count": null,
   "metadata": {},
   "outputs": [],
   "source": [
    "remote_router.run('sudo tc qdisc del dev $(ip route get 10.10.1.100 | grep -oP \"(?<=dev )[^ ]+\") root')\n",
    "remote_router.run('sudo tc qdisc add dev $(ip route get 10.10.1.100 | grep -oP \"(?<=dev )[^ ]+\") root netem delay 10ms 5ms')"
   ],
   "id": "4e938239-3fde-42e5-8276-1c8200b1fe54"
  },
  {
   "cell_type": "code",
   "execution_count": null,
   "metadata": {},
   "outputs": [],
   "source": [
    "remote_router.run('sudo tc qdisc del dev $(ip route get 10.10.2.100 | grep -oP \"(?<=dev )[^ ]+\") root')\n",
    "remote_router.run('sudo tc qdisc add dev $(ip route get 10.10.2.100 | grep -oP \"(?<=dev )[^ ]+\") root netem delay 10ms 5ms loss 10%')"
   ],
   "id": "b972c8e8-b36c-43c5-822e-475708dd03f6"
  },
  {
   "cell_type": "markdown",
   "metadata": {},
   "source": [
    "Validate that the `ping` results now show the added delay *and* the packet loss:"
   ],
   "id": "6fdf17df-b2cf-471e-822c-dfe25b11566d"
  },
  {
   "cell_type": "code",
   "execution_count": null,
   "metadata": {},
   "outputs": [],
   "source": [
    "remote_romeo.run('ping -c 60 juliet')"
   ],
   "id": "42d6a068-6044-4eef-9cce-2a69075eb4c0"
  },
  {
   "cell_type": "markdown",
   "metadata": {},
   "source": [
    "To slow down the data rate of the network, we prefer to use a different `tc` element, named `htb`. Let’s delete our `netem` element, and then try to add an `htb` that limits the rate of the data transfer from “romeo” to “juliet” to 100 Mbps. As packets arrive at the router, they will wait in a queue (in the order in which they arrived, so FIFO - first in, first out), and they will be released only at a rate of 100 Mbps. Also, the queue size will be limited to 0.5 MByte, so once packets arrive at the queue and find it to be full, they will be dropped. This will indicate to the sender (“romeo”) that it should slow down its sending rate."
   ],
   "id": "bb694a22-bdf8-441b-8c79-ccdd28c965f7"
  },
  {
   "cell_type": "code",
   "execution_count": null,
   "metadata": {},
   "outputs": [],
   "source": [
    "remote_router.run('sudo tc qdisc del dev $(ip route get 10.10.1.100 | grep -oP \"(?<=dev )[^ ]+\") root')"
   ],
   "id": "da9a2f16-b662-48fc-8422-a05eaac6c281"
  },
  {
   "cell_type": "code",
   "execution_count": null,
   "metadata": {},
   "outputs": [],
   "source": [
    "remote_router.run('sudo tc qdisc del dev $(ip route get 10.10.2.100 | grep -oP \"(?<=dev )[^ ]+\") root')"
   ],
   "id": "279da261-6321-4011-87a6-f247968ce603"
  },
  {
   "cell_type": "code",
   "execution_count": null,
   "metadata": {},
   "outputs": [],
   "source": [
    "remote_router.run('sudo tc qdisc add dev $(ip route get 10.10.2.100 | grep -oP \"(?<=dev )[^ ]+\") root handle 1: htb default 3')\n",
    "remote_router.run('sudo tc class add dev $(ip route get 10.10.2.100 | grep -oP \"(?<=dev )[^ ]+\") parent 1: classid 1:3 htb rate 100Mbit')\n",
    "remote_router.run('sudo tc qdisc add dev $(ip route get 10.10.2.100 | grep -oP \"(?<=dev )[^ ]+\") parent 1:3 handle 3: bfifo limit 0.5MByte')\n"
   ],
   "id": "4325855e-22f4-4b55-90d6-6d335903d0bb"
  },
  {
   "cell_type": "markdown",
   "metadata": {},
   "source": [
    "We will validate the change using `iperf3` to generate a data flow from “romeo” to “juliet” -"
   ],
   "id": "3d5e9ecb-0d17-4987-a029-c2f05d50a48f"
  },
  {
   "cell_type": "code",
   "execution_count": null,
   "metadata": {},
   "outputs": [],
   "source": [
    "remote_juliet.run('iperf3 -s -1', disown=True)"
   ],
   "id": "1ed8432c-ebf6-46d9-9e47-efd431f39ecb"
  },
  {
   "cell_type": "code",
   "execution_count": null,
   "metadata": {},
   "outputs": [],
   "source": [
    "remote_romeo.run('iperf3 -c juliet')"
   ],
   "id": "c2db148a-1c75-433a-ba8e-58917aff59d3"
  },
  {
   "cell_type": "markdown",
   "metadata": {},
   "source": [
    "Finally, we can also add a `netem` element *after* an `htb` token bucket, to combine rate limiting along with delay (and/or packet loss)! Try the following sequence of commands:"
   ],
   "id": "83a68201-1115-45b7-a9af-e79928c35f76"
  },
  {
   "cell_type": "code",
   "execution_count": null,
   "metadata": {},
   "outputs": [],
   "source": [
    "remote_router.run('sudo tc qdisc del dev $(ip route get 10.10.1.100 | grep -oP \"(?<=dev )[^ ]+\") root')"
   ],
   "id": "104a5524-ab8a-49fd-b60e-3d8c0f453bb5"
  },
  {
   "cell_type": "code",
   "execution_count": null,
   "metadata": {},
   "outputs": [],
   "source": [
    "remote_router.run('sudo tc qdisc del dev $(ip route get 10.10.2.100 | grep -oP \"(?<=dev )[^ ]+\") root')"
   ],
   "id": "719ee0c8-0be4-4bab-90f4-d6fb7964b258"
  },
  {
   "cell_type": "code",
   "execution_count": null,
   "metadata": {},
   "outputs": [],
   "source": [
    "# only add delay to the direction from \"juliet\" toward \"romeo\"\n",
    "remote_router.run('sudo tc qdisc add dev $(ip route get 10.10.1.100 | grep -oP \"(?<=dev )[^ ]+\") root netem delay 10ms')"
   ],
   "id": "efb178a1-84d5-4117-b2ad-2b855bb28afe"
  },
  {
   "cell_type": "code",
   "execution_count": null,
   "metadata": {},
   "outputs": [],
   "source": [
    "# add delay and also rate limiting in the direction from \"romeo\" toward \"juliet\"\n",
    "remote_router.run('sudo tc qdisc add dev $(ip route get 10.10.2.100 | grep -oP \"(?<=dev )[^ ]+\") root handle 1: htb default 3')\n",
    "remote_router.run('sudo tc class add dev $(ip route get 10.10.2.100 | grep -oP \"(?<=dev )[^ ]+\") parent 1: classid 1:3 htb rate 100Mbit')\n",
    "remote_router.run('sudo tc qdisc add dev $(ip route get 10.10.2.100 | grep -oP \"(?<=dev )[^ ]+\") parent 1:3 handle 3: netem delay 10ms')\n",
    "remote_router.run('sudo tc qdisc add dev $(ip route get 10.10.2.100 | grep -oP \"(?<=dev )[^ ]+\") parent 3: bfifo limit 0.5MByte')"
   ],
   "id": "236cd782-6a5f-4daa-bb28-383c60f11fa2"
  },
  {
   "cell_type": "markdown",
   "metadata": {},
   "source": [
    "and, validate the change:"
   ],
   "id": "d6d60199-0acc-473c-8840-c96b26cce4e4"
  },
  {
   "cell_type": "code",
   "execution_count": null,
   "metadata": {},
   "outputs": [],
   "source": [
    "remote_juliet.run('iperf3 -s -1', disown=True)"
   ],
   "id": "5a40cec0-8973-445b-80b4-e7487910392a"
  },
  {
   "cell_type": "code",
   "execution_count": null,
   "metadata": {},
   "outputs": [],
   "source": [
    "remote_romeo.run('iperf3 -c juliet')"
   ],
   "id": "4eeb1308-487a-4c74-83eb-747cc6dd6348"
  },
  {
   "cell_type": "code",
   "execution_count": null,
   "metadata": {},
   "outputs": [],
   "source": [
    "remote_romeo.run('ping -c 60 juliet')"
   ],
   "id": "b6325fd8-2494-498e-8388-52b4eb0a3939"
  },
  {
   "cell_type": "markdown",
   "metadata": {},
   "source": [
    "## Delete resources\n",
    "\n",
    "To free your resources, run the following cell:"
   ],
   "id": "9ac60e90-697d-456c-bd20-5799c483d48c"
  },
  {
   "cell_type": "code",
   "execution_count": null,
   "metadata": {},
   "outputs": [],
   "source": [
    "for server_id in [romeo_id, juliet_id, router_id]:\n",
    "    chi.server.delete_server(server_id)\n",
    "    \n",
    "for reserved_fip in [fip_romeo, fip_juliet, fip_router]:\n",
    "    ip_details = chi.network.get_floating_ip(reserved_fip)\n",
    "    chi.neutron().delete_floatingip(ip_details[\"id\"])\n",
    "    \n",
    "chi.network.remove_subnet_from_router(router.get(\"id\"), public_subnet.get(\"id\"))\n",
    "chi.network.delete_router(router.get(\"id\"))\n",
    "\n",
    "chi.network.delete_subnet(public_subnet.get('id'))\n",
    "chi.network.delete_network(public_net.get(\"id\"))\n",
    "\n",
    "chi.network.delete_subnet(exp_subnet_1.get('id'))\n",
    "chi.network.delete_network(exp_net_1.get(\"id\"))\n",
    "\n",
    "chi.network.delete_subnet(exp_subnet_2.get('id'))\n",
    "chi.network.delete_network(exp_net_2.get(\"id\"))"
   ],
   "id": "75d6b902-0fcb-4168-919f-12b17c53d916"
  }
 ],
 "nbformat": 4,
 "nbformat_minor": 5,
 "metadata": {}
}
