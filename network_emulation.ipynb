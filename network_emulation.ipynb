{
 "cells": [
  {
   "cell_type": "markdown",
   "metadata": {},
   "source": [
    "# Emulating network impairments\n",
    "\n",
    "When we do experiments involving computer networks, we often want to “mimic” specific network scenarios. For example, we might want to “mimic” a satellite wireless network (which tends to have low data rate and very large delay), or a fiber optic wired network link (which tends to have high data rate and small delay). Even when the specific network we want to “mimic” is not available to us for experimentation, we can use a technique called *network emulation* to make any existing network have the desired characteristics.\n",
    "\n",
    "This notebook will show you how to:\n",
    "\n",
    "-   launch three VMs with network connectivity in a line topology\n",
    "-   attach a public IP address to each VM, so that you can access it over SSH\n",
    "-   configure the VM interfaces on the “experiment” network\n",
    "-   measure the characteristics of the pre-existing network\n",
    "-   emulate different network conditions (packet loss, delay, jitter, data rate) over this link\n",
    "-   delete resources"
   ],
   "id": "441597b0-e730-41c2-8053-5795f2bd836e"
  },
  {
   "cell_type": "markdown",
   "metadata": {},
   "source": [
    "## Launch three VMs in a line\n",
    "\n",
    "In this exercise, we will reserve resources on KVM@TACC: two hosts (VMs) on two different network segments, connected by a router (also a VM).\n",
    "\n",
    "When we send data from one host to the other, that data will go *through* the router."
   ],
   "id": "34b00243-caf1-4389-abcd-277d5c54ffc7"
  },
  {
   "cell_type": "markdown",
   "metadata": {},
   "source": [
    "First, we load some required libraries:"
   ],
   "id": "ebbb7cdd-c998-4ceb-befa-ff12c44a410a"
  },
  {
   "cell_type": "code",
   "execution_count": null,
   "metadata": {},
   "outputs": [],
   "source": [
    "# enable autoreload magic to pull in updated utils.py \n",
    "%load_ext autoreload\n",
    "%autoreload 2"
   ],
   "id": "084d02a8-0309-499a-bc65-ed585ea70c76"
  },
  {
   "cell_type": "code",
   "execution_count": null,
   "metadata": {},
   "outputs": [],
   "source": [
    "import openstack\n",
    "import chi\n",
    "import chi.ssh\n",
    "import os \n",
    "import utils"
   ],
   "id": "daf408c0-93cf-4fc4-9cd1-84331692d95d"
  },
  {
   "cell_type": "markdown",
   "metadata": {},
   "source": [
    "We indicate that we’re going to use the KVM@TACC site. We also need to specify the name of the Chameleon “project: that this experiment is part of. The project name will have the format “CHI-XXXXXX”, where the last part is a 6-digit number, and you can find it on your [user dashboard](https://chameleoncloud.org/user/dashboard/).\n",
    "\n",
    "In the cell below, replace the project ID with your own project ID, then run the cell."
   ],
   "id": "5fadd30f-0b72-4500-b90c-1a00ce6cd984"
  },
  {
   "cell_type": "code",
   "execution_count": null,
   "metadata": {},
   "outputs": [],
   "source": [
    "chi.use_site(\"KVM@TACC\")\n",
    "PROJECT_NAME = \"CHI-XXXXXX\"\n",
    "chi.set(\"project_name\", PROJECT_NAME)\n",
    "\n",
    "# configure openstacksdk for actions unsupported by python-chi\n",
    "os_conn = chi.clients.connection()"
   ],
   "id": "e37f5e2a-29e9-4de2-b47f-71f3aab290fd"
  },
  {
   "cell_type": "markdown",
   "metadata": {},
   "source": [
    "Next, we will create three network links:\n",
    "\n",
    "-   One “public” network link, that we will use to connect to our hosts and router via SSH. The network interfaces on this link will have addresses in the range 192.168.10.X, where X is any integer from 1 to 254.\n",
    "-   One “experiment” network link, that will connect the “romeo” host to the router. The network interfaces on this link will have addresses in the range 10.10.1.X, where X is any integer from 1 to 254.\n",
    "-   One “experiment” network link, that will connect the “juliet” host to the router. The network interfaces on this link will have addresses in the range 10.10.2.X, where X is any integer from 1 to 254.\n",
    "\n",
    "We will make sure the networks have our username as part of the network name, so that we can easily identify them in the KVM@TACC web interface."
   ],
   "id": "bee264cb-4336-4ac1-9f90-5b924f4157d8"
  },
  {
   "cell_type": "code",
   "execution_count": null,
   "metadata": {},
   "outputs": [],
   "source": [
    "# create three networks. One will be used for SSH and API access,\n",
    "# and the other two will be used for experiments. \n",
    "# We need to disable port security on those two experiment networks.\n",
    "\n",
    "username = os.getenv('USER')\n",
    "public_net = utils.ensure_network(os_conn, network_name=\"public-net-\" + username)\n",
    "exp_net_1  = utils.ensure_network(os_conn, network_name=\"exp-net-1-\" + username)\n",
    "exp_net_2  = utils.ensure_network(os_conn, network_name=\"exp-net-2-\" + username)\n",
    "\n",
    "public_subnet = utils.ensure_subnet(\n",
    "    os_conn,\n",
    "    name=\"public-subnet-\" + username,\n",
    "    network_id=public_net.get(\"id\"),\n",
    "    ip_version='4',\n",
    "    cidr=\"192.168.10.0/24\",\n",
    "    gateway_ip=\"192.168.10.1\"\n",
    ")\n",
    "\n",
    "exp_subnet_1 = utils.ensure_subnet(\n",
    "    os_conn,\n",
    "    name=\"exp-subnet-1-\" + username,\n",
    "    network_id=exp_net_1.get(\"id\"),\n",
    "    ip_version='4',\n",
    "    cidr=\"10.10.1.0/24\",\n",
    "    enable_dhcp=True,\n",
    "    gateway_ip=None\n",
    ")\n",
    "\n",
    "exp_subnet_2 = utils.ensure_subnet(\n",
    "    os_conn,\n",
    "    name=\"exp-subnet-2-\" + username,\n",
    "    network_id=exp_net_2.get(\"id\"),\n",
    "    ip_version='4',\n",
    "    cidr=\"10.10.2.0/24\",\n",
    "    enable_dhcp=True,\n",
    "    gateway_ip=None\n",
    ")"
   ],
   "id": "59247286-cecf-45f2-b7c7-641de31a31a6"
  },
  {
   "cell_type": "markdown",
   "metadata": {},
   "source": [
    "We need to configure the two “experiment” links so that they will carry all traffic between the hosts - we will need to disable the default security settings on them."
   ],
   "id": "80d9130f-32b8-491b-ba1d-02d08c5d2d20"
  },
  {
   "cell_type": "code",
   "execution_count": null,
   "metadata": {},
   "outputs": [],
   "source": [
    "netid_1 = exp_net_1['id']\n",
    "netid_2 = exp_net_2['id']"
   ],
   "id": "72bbc9d3-b4f7-435c-83b8-3b2b53aa20ff"
  },
  {
   "cell_type": "code",
   "execution_count": null,
   "metadata": {},
   "outputs": [],
   "source": [
    "%%bash -s \"$PROJECT_NAME\" \"$netid_1\" \"$netid_2\"\n",
    "export OS_PROJECT_NAME=$1\n",
    "export OS_AUTH_URL=https://kvm.tacc.chameleoncloud.org:5000/v3\n",
    "export OS_REGION_NAME=KVM@TACC\n",
    "access_token=$(curl -s -H\"authorization: token $JUPYTERHUB_API_TOKEN\" \"$JUPYTERHUB_API_URL/users/$JUPYTERHUB_USER\" | jq -r .auth_state.access_token)\n",
    "export OS_ACCESS_TOKEN=\"$access_token\"\n",
    "\n",
    "openstack network set --disable-port-security $2\n",
    "openstack network set --disable-port-security $3"
   ],
   "id": "a8ecfafe-5768-43b7-88c5-ed196c00a3b6"
  },
  {
   "cell_type": "markdown",
   "metadata": {},
   "source": [
    "Now, we will create the three VMs - romeo, juliet, and router, with a network interface on the appropriate links."
   ],
   "id": "69f774be-3d93-4102-8739-15ac1e45be6e"
  },
  {
   "cell_type": "code",
   "execution_count": null,
   "metadata": {},
   "outputs": [],
   "source": [
    "# Now, create three VMs - romeo, juliet, and router\n",
    "\n",
    "image_uuid = os_conn.image.find_image(\"CC-Ubuntu20.04\").id\n",
    "flavor_uuid = os_conn.compute.find_flavor(\"m1.small\").id\n",
    "\n",
    "server_romeo = utils.ensure_server(\n",
    "    os_conn,\n",
    "    name=\"romeo_\" + username,\n",
    "    image_id=image_uuid,\n",
    "    flavor_id=flavor_uuid,\n",
    "    nics=[\n",
    "        {\"net-id\": public_net.get(\"id\"), \"v4-fixed-ip\":\"192.168.10.10\"},\n",
    "        {\"net-id\": netid_1, \"v4-fixed-ip\":\"10.10.1.100\"},\n",
    "    ]\n",
    ")\n",
    "\n",
    "server_juliet = utils.ensure_server(\n",
    "    os_conn,\n",
    "    name=\"juliet_\" + username,\n",
    "    image_id=image_uuid,\n",
    "    flavor_id=flavor_uuid,\n",
    "    nics=[\n",
    "        {\"net-id\": public_net.get(\"id\"), \"v4-fixed-ip\":\"192.168.10.20\"},\n",
    "        {\"net-id\": netid_2, \"v4-fixed-ip\":\"10.10.2.100\"},\n",
    "    ]\n",
    ")\n",
    "\n",
    "server_router = utils.ensure_server(\n",
    "    os_conn,\n",
    "    name=\"router_\" + username,\n",
    "    image_id=image_uuid,\n",
    "    flavor_id=flavor_uuid,\n",
    "    nics=[\n",
    "        {\"net-id\": public_net.get(\"id\"), \"v4-fixed-ip\":\"192.168.10.30\"},\n",
    "        {\"net-id\": netid_1, \"v4-fixed-ip\":\"10.10.1.10\"},\n",
    "        {\"net-id\": netid_2, \"v4-fixed-ip\":\"10.10.2.10\"},\n",
    "    ]\n",
    ")"
   ],
   "id": "ff9226cc-46f8-4144-a39f-c7ac4f8d6c17"
  },
  {
   "cell_type": "code",
   "execution_count": null,
   "metadata": {},
   "outputs": [],
   "source": [
    "romeo_id  = chi.server.get_server('romeo_' + username).id\n",
    "juliet_id = chi.server.get_server('juliet_' + username).id\n",
    "router_id = chi.server.get_server('router_' + username).id"
   ],
   "id": "150c77ca-ae93-4520-abb3-7a07da30a359"
  },
  {
   "cell_type": "markdown",
   "metadata": {},
   "source": [
    "We will wait for our VMs to come up:"
   ],
   "id": "2c795d09-4ec5-47dc-afe6-885cfa3aafa3"
  },
  {
   "cell_type": "code",
   "execution_count": null,
   "metadata": {},
   "outputs": [],
   "source": [
    "chi.server.wait_for_active(romeo_id)\n",
    "chi.server.wait_for_active(juliet_id)\n",
    "chi.server.wait_for_active(router_id)"
   ],
   "id": "f2d35570-bbbd-4f88-b771-479e534a7b23"
  },
  {
   "cell_type": "markdown",
   "metadata": {},
   "source": [
    "## Attach an address for SSH access"
   ],
   "id": "e87310cf-71dd-4636-8878-b921386cc367"
  },
  {
   "cell_type": "markdown",
   "metadata": {},
   "source": [
    "Next, we will set up SSH access to the VMs.\n",
    "\n",
    "First, we will make sure the “public” network is connected to the Internet."
   ],
   "id": "b72b1bfb-6fb7-404e-88c1-b90b408b7cfe"
  },
  {
   "cell_type": "code",
   "execution_count": null,
   "metadata": {},
   "outputs": [],
   "source": [
    "# connect them to the Internet on the \"public\" network (e.g. for software installation)\n",
    "router = chi.network.create_router('inet-router-' + username, gw_network_name='public')\n",
    "chi.network.add_subnet_to_router(router.get(\"id\"), public_subnet.get(\"id\"))"
   ],
   "id": "5092a822-c9ec-4314-8d09-05e2bcfdead2"
  },
  {
   "cell_type": "code",
   "execution_count": null,
   "metadata": {},
   "outputs": [],
   "source": [
    "# prepare SSH access on the three servers\n",
    "fip_romeo = chi.server.associate_floating_ip(romeo_id)\n",
    "fip_juliet = chi.server.associate_floating_ip(juliet_id)\n",
    "fip_router = chi.server.associate_floating_ip(router_id)"
   ],
   "id": "7ce99dbe-f8a8-4b4f-8543-9fafad85c98f"
  },
  {
   "cell_type": "markdown",
   "metadata": {},
   "source": [
    "Note: The following cell assumes that a security group named “Allow SSH” already exists in your project, and is configured to allow SSH access on port 22. If you have done the “Hello, Chameleon” experiment then you already have this security group."
   ],
   "id": "dd8e6973-056f-4949-95a7-4f8fff18ff08"
  },
  {
   "cell_type": "code",
   "execution_count": null,
   "metadata": {},
   "outputs": [],
   "source": [
    "[port_id_1, port_id_2, port_id_3 ] = [port['id'] for port in chi.network.list_ports() if port['port_security_enabled'] and port['network_id']==public_net.get(\"id\")]\n",
    "security_group_id = os_conn.get_security_group(\"Allow SSH\").id"
   ],
   "id": "9f17797d-1518-47fc-a10b-f405d5ef3c85"
  },
  {
   "cell_type": "code",
   "execution_count": null,
   "metadata": {},
   "outputs": [],
   "source": [
    "%%bash -s \"$PROJECT_NAME\" \"$security_group_id\" \"$port_id_1\" \"$port_id_2\" \"$port_id_3\" \n",
    "\n",
    "export OS_PROJECT_NAME=$1\n",
    "export OS_AUTH_URL=https://kvm.tacc.chameleoncloud.org:5000/v3\n",
    "export OS_REGION_NAME=KVM@TACC\n",
    "access_token=$(curl -s -H\"authorization: token $JUPYTERHUB_API_TOKEN\"     \"$JUPYTERHUB_API_URL/users/$JUPYTERHUB_USER\"     | jq -r .auth_state.access_token)\n",
    "export OS_ACCESS_TOKEN=\"$access_token\"\n",
    "\n",
    "openstack port set \"$3\" --security-group \"$2\"\n",
    "openstack port set \"$4\" --security-group \"$2\"\n",
    "openstack port set \"$5\" --security-group \"$2\""
   ],
   "id": "43d99a80-2f13-4a37-8e8e-6185acef5e73"
  },
  {
   "cell_type": "markdown",
   "metadata": {},
   "source": [
    "Also copy your account keys to all of the resources:"
   ],
   "id": "45d69663-521a-4ca0-8593-c34376562838"
  },
  {
   "cell_type": "code",
   "execution_count": null,
   "metadata": {},
   "outputs": [],
   "source": [
    "remote_router = chi.ssh.Remote(fip_router) \n",
    "remote_romeo = chi.ssh.Remote(fip_romeo) \n",
    "remote_juliet = chi.ssh.Remote(fip_juliet) "
   ],
   "id": "3d565603-2a58-4df8-a628-0259dfa75adb"
  },
  {
   "cell_type": "code",
   "execution_count": null,
   "metadata": {},
   "outputs": [],
   "source": [
    "nova=chi.clients.nova()\n",
    "# iterate over all keypairs in this account\n",
    "for kp in nova.keypairs.list(): \n",
    "    public_key = nova.keypairs.get(kp.name).public_key \n",
    "    remote_router.run(f\"echo {public_key} >> ~/.ssh/authorized_keys\") \n",
    "    remote_romeo.run(f\"echo {public_key} >> ~/.ssh/authorized_keys\") \n",
    "    remote_juliet.run(f\"echo {public_key} >> ~/.ssh/authorized_keys\") "
   ],
   "id": "eb395f91-2f4d-46d6-8fe3-37681274b70d"
  },
  {
   "cell_type": "markdown",
   "metadata": {},
   "source": [
    "At this point, we should be able to log in to our resources over SSH! Run the following cells, and observe the output - you will see an SSH command for each of the nodes in your topology."
   ],
   "id": "ce448f9e-a04d-4b30-b45a-515bc331e32a"
  },
  {
   "cell_type": "code",
   "execution_count": null,
   "metadata": {},
   "outputs": [],
   "source": [
    "# for romeo:\n",
    "print(f\"ssh cc@{fip_romeo}\")"
   ],
   "id": "1906fb23-d7c9-4101-b4e9-83a7689e9f03"
  },
  {
   "cell_type": "code",
   "execution_count": null,
   "metadata": {},
   "outputs": [],
   "source": [
    "# for juliet:\n",
    "print(f\"ssh cc@{fip_juliet}\")"
   ],
   "id": "2166a3a3-1101-47dc-9570-f0f36f28f800"
  },
  {
   "cell_type": "code",
   "execution_count": null,
   "metadata": {},
   "outputs": [],
   "source": [
    "# for router:\n",
    "print(f\"ssh cc@{fip_router}\")"
   ],
   "id": "ee0264ae-e348-4bee-83a1-3b827c7e2c71"
  },
  {
   "cell_type": "markdown",
   "metadata": {},
   "source": [
    "Now, you can open an SSH session on any of the nodes as follows:\n",
    "\n",
    "-   In Jupyter, from the menu bar, use File \\> New \\> Terminal to open a new terminal.\n",
    "-   Copy an SSH command from the output above, and paste it into the terminal.\n",
    "\n",
    "You can repeat this process (open several terminals) to start a session on each host and the router. Each terminal session will have a tab in the Jupyter environment, so that you can easily switch between them.\n",
    "\n",
    "Alternatively, you can use your local terminal to log on to each host and the router, if you prefer."
   ],
   "id": "ae6a1d50-1d13-4122-baa9-fc244e9f313f"
  },
  {
   "cell_type": "markdown",
   "metadata": {},
   "source": [
    "## Configure interfaces on the experiment network"
   ],
   "id": "15a725f6-9815-418b-bc69-f9a136e9d02c"
  },
  {
   "cell_type": "markdown",
   "metadata": {},
   "source": [
    "Next, we need to configure our resources - assign addresses to network interfaces, enable forwarding on the router, and install any necessary software."
   ],
   "id": "315d8ee2-a04f-4b67-a3ac-874cb969860a"
  },
  {
   "cell_type": "code",
   "execution_count": null,
   "metadata": {},
   "outputs": [],
   "source": [
    "# configure the router to forward traffic\n",
    "remote_router.run(f\"sudo sysctl -w net.ipv4.ip_forward=1\") \n",
    "remote_router.run(f\"sudo ufw disable\") "
   ],
   "id": "80a0dab2-3131-48c7-b127-fbd3be539ab7"
  },
  {
   "cell_type": "code",
   "execution_count": null,
   "metadata": {},
   "outputs": [],
   "source": [
    "# configure the romeo host\n",
    "remote_romeo.run(f\"sudo ip route add 10.10.2.0/24 via 10.10.1.10\") \n",
    "remote_romeo.run(f\"echo '10.10.2.100 juliet' | sudo tee -a /etc/hosts > /dev/null\") \n",
    "remote_romeo.run(f\"sudo apt update; sudo apt -y install iperf3\") "
   ],
   "id": "3aa20d38-e616-4b3e-8a0c-7c1042354942"
  },
  {
   "cell_type": "code",
   "execution_count": null,
   "metadata": {},
   "outputs": [],
   "source": [
    "# configure the juliet host\n",
    "remote_juliet.run(f\"sudo ip route add 10.10.1.0/24 via 10.10.2.10\") \n",
    "remote_juliet.run(f\"echo '10.10.1.100 romeo' | sudo tee -a /etc/hosts > /dev/null\") \n",
    "remote_juliet.run(f\"sudo apt update; sudo apt -y install iperf3\") "
   ],
   "id": "027102aa-8586-40f4-8df7-c0979f95c3ee"
  },
  {
   "cell_type": "markdown",
   "metadata": {},
   "source": [
    "## Measure the network\n",
    "\n",
    "Next, we are going to measure the characteristics of the existing network -\n",
    "\n",
    "-   what data rate do we observe when we try to send data as fast as possible through the network?\n",
    "-   how much delay is there, and how much delay variation, when we send small `ping` messages across the network and measure the time to receive a response?"
   ],
   "id": "9ebf3827-31bd-4244-a0f1-e9dbb6ef1939"
  },
  {
   "cell_type": "markdown",
   "metadata": {},
   "source": [
    "We will use the `iperf3` command to send data from “romeo” to “juliet” and measure the data rate. First, we’ll set up “juliet” to *receive* one data flow. Then, we’ll ask “romeo” to send a data flow for ten seconds, and report back with an average data rate."
   ],
   "id": "501d8f86-c676-4f05-bb12-5f69870f53e1"
  },
  {
   "cell_type": "code",
   "execution_count": null,
   "metadata": {},
   "outputs": [],
   "source": [
    "remote_juliet.run('iperf3 -s -1', disown=True)"
   ],
   "id": "06fa2818-319b-4a73-9157-e182a110d0ab"
  },
  {
   "cell_type": "code",
   "execution_count": null,
   "metadata": {},
   "outputs": [],
   "source": [
    "remote_romeo.run('iperf3 -c juliet')"
   ],
   "id": "4c7a01fd-5e8d-48a3-8e32-c43a586f947f"
  },
  {
   "cell_type": "markdown",
   "metadata": {},
   "source": [
    "Next, we will use the `ping` command to send those `ping` messages (10 of them!) and responses from “romeo” to “juliet”. The output will include the round trip time of each of the ten messages, and at the end, the minimum, average, maximum, and variation of the delay."
   ],
   "id": "c107cb6d-4a02-44e7-8c77-aede1a40e369"
  },
  {
   "cell_type": "code",
   "execution_count": null,
   "metadata": {},
   "outputs": [],
   "source": [
    "remote_romeo.run('ping -c 10 juliet')"
   ],
   "id": "09e6096e-33d2-484a-9b68-5245ee90ace2"
  },
  {
   "cell_type": "markdown",
   "metadata": {},
   "source": [
    "## Emulate network impairments"
   ],
   "id": "9007c4d3-d088-4ad8-befd-db7de35bdcbc"
  },
  {
   "cell_type": "markdown",
   "metadata": {},
   "source": [
    "Now that we understand the characteristics of the “real” network, we can add network *impairments* that make it mimic other, *worse* networks.\n",
    "\n",
    "Note the word “impairment” - we can make the network *worse* but there is nothing we can do to make it better!\n",
    "\n",
    "For example, if the “real” network is capable of transferring data at 2 Gbps, we can *slow it down* and make it transfer data at only 100 Mbps. But we can’t make it *faster*, so we won’t be able to make it work at 10 Gbps.\n",
    "\n",
    "Similarly, if the delay across the “real” networks is about 1 ms, we can *add* 20 ms of delay to make the overall delay about 20 ms, but we can’t make the delay be *less* than 1 ms."
   ],
   "id": "63d33ee3-361b-4963-b47f-273e60d75498"
  },
  {
   "cell_type": "markdown",
   "metadata": {},
   "source": [
    "To add network impairments, we will use the Linux traffic control system, `tc`, which can apply various “rules” to all packets *leaving* a network interface. We will apply these rules at the router, since all traffic between “romeo” and “juliet” goes through the router.\n",
    "\n",
    "-   To add additional delay and delay variation to the *round trip time* between “romeo” and “juliet”, we would use `netem` and put *half* of the additional delay on the router interface that is on the same network link as “juliet” (this will apply to data from “romeo” to “juliet”), and the other *half* on the router interface that is on the same network link as “romeo” (this will apply to data from “juliet” to “romeo”). The *round trip delay* is the sum of the delays in each direction.\n",
    "-   To apply random packet loss to the data going from “romeo” *to* “juliet”, we would use `netem` to add loss at the router interface that is on the same network link as “juliet”, since packets going to “juliet” are going to *leave* the router through this interface.\n",
    "-   To slow down the data rate for data going from “romeo” *to*” “juliet”, we would apply a *token bucket* filter at the router interface that is on the same network link as “juliet”, since packets going to “juliet” are going to *leave* the router through this interface.\n",
    "\n",
    "We’ll start by adding these impairments individually, and then we will see how to add these in combination."
   ],
   "id": "d04adda8-41a2-435e-b989-dae7dd9764d9"
  },
  {
   "cell_type": "markdown",
   "metadata": {},
   "source": [
    "One important note before we begin: in the commands that follow, we want to apply an impairment to a specific network interface on the router, and we need to refer to the interface by name. The router has multiple network interfaces, two of which are the “experiment” interfaces that we want to modify - we can see them by running `ip addr` on the router:"
   ],
   "id": "2c4b9ca4-6a63-4ea7-849b-fab3d17590ba"
  },
  {
   "cell_type": "code",
   "execution_count": null,
   "metadata": {},
   "outputs": [],
   "source": [
    "remote_router.run('ip addr')"
   ],
   "id": "18d80c77-befe-4f8e-a949-8a9be5809afb"
  },
  {
   "cell_type": "markdown",
   "metadata": {},
   "source": [
    "We don’t know in advance what the interfaces will be named - e.g. in this experiment, the interface that connects the router to the link with “juliet” may be named `ens8` but in the next experiment it could be named `ens4`! But, in the commands that follow, we need to name the interface.\n",
    "\n",
    "Therefore, instead of using an interface name directly in these commands, we will use a command that returns the name of a particular interface. For example, the command"
   ],
   "id": "61a3738f-b78b-4486-8f43-15975f0d4187"
  },
  {
   "cell_type": "code",
   "execution_count": null,
   "metadata": {},
   "outputs": [],
   "source": [
    "remote_router.run('ip route get 10.10.2.100 | grep -oP \"(?<=dev )[^ ]+\"')"
   ],
   "id": "2a6c3707-7242-4202-863c-fee222ca545c"
  },
  {
   "cell_type": "markdown",
   "metadata": {},
   "source": [
    "will return the name of the router interface that will be used to forward packets to “juliet” (10.10.2.100), and the command"
   ],
   "id": "3b9f5c9d-efce-421c-9d52-9f06e2378c5e"
  },
  {
   "cell_type": "code",
   "execution_count": null,
   "metadata": {},
   "outputs": [],
   "source": [
    "remote_router.run('ip route get 10.10.1.100 | grep -oP \"(?<=dev )[^ ]+\"')"
   ],
   "id": "6ce8e615-c8c1-429b-b348-57f8f5d53a72"
  },
  {
   "cell_type": "markdown",
   "metadata": {},
   "source": [
    "will return the name of the router interface that will be used to forward packets to “romeo” (10.10.1.100). When we use these commands inside a `$()` within another command, the command inside the `$()` is executed and its value is returned and used in the “parent” command. This way, we can specify an interface name in the `tc` commands without even knowing what the interface name is!"
   ],
   "id": "e64b6419-5a63-454a-a2bb-3c771a84a516"
  },
  {
   "cell_type": "markdown",
   "metadata": {},
   "source": [
    "With that in mind, let’s start by deleting any `tc` elements that might already be set up on either of the router interfaces. We specify that we want to delete (`del`) whatever might be there, we specify the name of the network interface (`dev` followed by a command inside `$()` which will be replaced by an interface name!), and we specify that we want to delete everything from the `root` of the interface (in case there is a “chain” of elements applied there!)\n",
    "\n",
    "If there is no `tc` element already applied, then trying to delete it will return an error, but that’s OK! You’ll notice throughout this notebook, we will typically try to delete any existing element before you add any new one, but we won’t be concerned if an error is raised when we try to *delete* an element."
   ],
   "id": "8a93720b-eb17-4e5a-9259-92d9517a8fa6"
  },
  {
   "cell_type": "code",
   "execution_count": null,
   "metadata": {},
   "outputs": [],
   "source": [
    "remote_router.run('sudo tc qdisc del dev $(ip route get 10.10.1.100 | grep -oP \"(?<=dev )[^ ]+\") root')"
   ],
   "id": "43c3a338-1e4f-4f47-b6c8-3db8ff8d72f8"
  },
  {
   "cell_type": "code",
   "execution_count": null,
   "metadata": {},
   "outputs": [],
   "source": [
    "remote_router.run('sudo tc qdisc del dev $(ip route get 10.10.2.100 | grep -oP \"(?<=dev )[^ ]+\") root')"
   ],
   "id": "3bf67830-8d7a-49e4-b77d-6ee611991c07"
  },
  {
   "cell_type": "markdown",
   "metadata": {},
   "source": [
    "Now, let’s use `netem` to add 10 ms of delay in *each* direction, for a total of 20 ms added to the round trip time.\n",
    "\n",
    "On the router, we will run:"
   ],
   "id": "1b385bd6-8aad-434b-904f-22bd47619004"
  },
  {
   "cell_type": "code",
   "execution_count": null,
   "metadata": {},
   "outputs": [],
   "source": [
    "remote_router.run('sudo tc qdisc add dev $(ip route get 10.10.1.100 | grep -oP \"(?<=dev )[^ ]+\") root netem delay 10ms')"
   ],
   "id": "6ff8bf7f-13fc-4266-8ac7-451962b167b6"
  },
  {
   "cell_type": "code",
   "execution_count": null,
   "metadata": {},
   "outputs": [],
   "source": [
    "remote_router.run('sudo tc qdisc add dev $(ip route get 10.10.2.100 | grep -oP \"(?<=dev )[^ ]+\") root netem delay 10ms')"
   ],
   "id": "ea00838e-17fe-4712-ba2e-dc6b088ae334"
  },
  {
   "cell_type": "markdown",
   "metadata": {},
   "source": [
    "To test the change in delay, we will run our `ping` test again, but we’ll make it a little bit longer this time:"
   ],
   "id": "c92043ef-3837-4a0e-8884-d92fa4762b83"
  },
  {
   "cell_type": "code",
   "execution_count": null,
   "metadata": {},
   "outputs": [],
   "source": [
    "remote_romeo.run('ping -c 60 juliet')"
   ],
   "id": "51fdadbf-feb3-492b-b386-e6425955dad8"
  },
  {
   "cell_type": "markdown",
   "metadata": {},
   "source": [
    "Validate that the results now show an additional 20 ms of delay in the round trip time."
   ],
   "id": "b3edf6a0-03d0-4e16-87c3-82dcac93ec26"
  },
  {
   "cell_type": "markdown",
   "metadata": {},
   "source": [
    "Instead of adding a constant delay (same delay applied to every packet), we may want to add delay with some *variation*. Let’s *replace* the previous `netem` element with a different one, that also specifies a delay variation (second value after the word `delay`):"
   ],
   "id": "0685ab08-423a-4eac-9faf-b0c62858ade6"
  },
  {
   "cell_type": "code",
   "execution_count": null,
   "metadata": {},
   "outputs": [],
   "source": [
    "remote_router.run('sudo tc qdisc replace dev $(ip route get 10.10.1.100 | grep -oP \"(?<=dev )[^ ]+\") root netem delay 10ms 5ms')"
   ],
   "id": "d929b291-99b4-4d8a-bcfd-4ce5d8a18c92"
  },
  {
   "cell_type": "code",
   "execution_count": null,
   "metadata": {},
   "outputs": [],
   "source": [
    "remote_router.run('sudo tc qdisc replace dev $(ip route get 10.10.2.100 | grep -oP \"(?<=dev )[^ ]+\") root netem delay 10ms 5ms')"
   ],
   "id": "9af3ce0c-6447-4840-ba5c-c9f9148cec3f"
  },
  {
   "cell_type": "markdown",
   "metadata": {},
   "source": [
    "Validate that the round trip time reported by `ping` now has substantially more variation:"
   ],
   "id": "2148b299-d74a-4845-8d46-71442330c834"
  },
  {
   "cell_type": "code",
   "execution_count": null,
   "metadata": {},
   "outputs": [],
   "source": [
    "remote_romeo.run('ping -c 60 juliet')"
   ],
   "id": "11c512ee-c896-40e4-9f7f-cf7263e5712e"
  },
  {
   "cell_type": "markdown",
   "metadata": {},
   "source": [
    "The `netem` element can also be used to add packet loss. Most networks have very little packet loss, but for this example, we’ll make it more extreme - we’ll specify 10% packet loss, which means that 1 out of every 10 packets will be dropped (on average). We will *only* apply this to packets going from “romeo” to “juliet”, not for packets going in the other direction.\n",
    "\n",
    "First, we’ll delete the existing (delay) `netem` elements, then we’ll add one that emulates packet loss:"
   ],
   "id": "692ff9ac-6fcd-426c-baff-9cc6acce1f67"
  },
  {
   "cell_type": "code",
   "execution_count": null,
   "metadata": {},
   "outputs": [],
   "source": [
    "remote_router.run('sudo tc qdisc del dev $(ip route get 10.10.1.100 | grep -oP \"(?<=dev )[^ ]+\") root')"
   ],
   "id": "d210d3b3-3074-4b0e-8c68-202349d9a5aa"
  },
  {
   "cell_type": "code",
   "execution_count": null,
   "metadata": {},
   "outputs": [],
   "source": [
    "remote_router.run('sudo tc qdisc del dev $(ip route get 10.10.2.100 | grep -oP \"(?<=dev )[^ ]+\") root')"
   ],
   "id": "82ad69c2-8fc1-4345-b5c5-5938e38e590a"
  },
  {
   "cell_type": "code",
   "execution_count": null,
   "metadata": {},
   "outputs": [],
   "source": [
    "remote_router.run('sudo tc qdisc add dev $(ip route get 10.10.2.100 | grep -oP \"(?<=dev )[^ ]+\") root netem loss 10%')"
   ],
   "id": "86948875-e58b-454c-85d4-0b73825c751c"
  },
  {
   "cell_type": "markdown",
   "metadata": {},
   "source": [
    "Validate that the `ping` results now show packet loss:"
   ],
   "id": "92bf852b-fc91-4e8f-adc1-493db76f48e4"
  },
  {
   "cell_type": "code",
   "execution_count": null,
   "metadata": {},
   "outputs": [],
   "source": [
    "remote_romeo.run('ping -c 60 juliet')"
   ],
   "id": "5ab12489-da5f-4fac-bbca-3f80e06a4eac"
  },
  {
   "cell_type": "markdown",
   "metadata": {},
   "source": [
    "We can specify both `delay` and `loss` together in a `netem`. For example, if we want to delete any existing `tc` elements and then add:\n",
    "\n",
    "-   10ms delay with 5ms variation and 10% packet loss to packets from “romeo” to “juliet”\n",
    "-   and 10ms delay with 5ms variation to packets from “juliet” to “romeo”\n",
    "\n",
    "we could do:"
   ],
   "id": "6058a23f-23e9-46b2-a60a-a14bd1635415"
  },
  {
   "cell_type": "code",
   "execution_count": null,
   "metadata": {},
   "outputs": [],
   "source": [
    "remote_router.run('sudo tc qdisc del dev $(ip route get 10.10.1.100 | grep -oP \"(?<=dev )[^ ]+\") root')"
   ],
   "id": "dc82dcc9-670e-4209-93b4-e55518f068f7"
  },
  {
   "cell_type": "code",
   "execution_count": null,
   "metadata": {},
   "outputs": [],
   "source": [
    "remote_router.run('sudo tc qdisc del dev $(ip route get 10.10.2.100 | grep -oP \"(?<=dev )[^ ]+\") root')"
   ],
   "id": "d7265cdd-7950-45c5-99ab-61669ad9f6f5"
  },
  {
   "cell_type": "code",
   "execution_count": null,
   "metadata": {},
   "outputs": [],
   "source": [
    "remote_router.run('sudo tc qdisc add dev $(ip route get 10.10.1.100 | grep -oP \"(?<=dev )[^ ]+\") root netem delay 10ms 5ms')"
   ],
   "id": "72db352a-d19c-4d09-b7d8-73f0b6df4401"
  },
  {
   "cell_type": "code",
   "execution_count": null,
   "metadata": {},
   "outputs": [],
   "source": [
    "remote_router.run('sudo tc qdisc add dev $(ip route get 10.10.2.100 | grep -oP \"(?<=dev )[^ ]+\") root netem delay 10ms 5ms loss 10%')"
   ],
   "id": "447a5b6f-08ec-42a0-8d67-99c302719dee"
  },
  {
   "cell_type": "markdown",
   "metadata": {},
   "source": [
    "Validate that the `ping` results now show the added delay *and* the packet loss:"
   ],
   "id": "7ee3e6dc-e57a-4ec3-a226-f2c9f7995cdf"
  },
  {
   "cell_type": "code",
   "execution_count": null,
   "metadata": {},
   "outputs": [],
   "source": [
    "remote_romeo.run('ping -c 60 juliet')"
   ],
   "id": "0ca52bdf-9b34-476b-95c1-34112813230a"
  },
  {
   "cell_type": "markdown",
   "metadata": {},
   "source": [
    "To slow down the data rate of the network, we prefer to use a different `tc` element, named `htb`. Let’s delete our `netem` element, and then try to add an `htb` that limits the rate of the data transfer from “romeo” to “juliet” to 100 Mbps. As packets arrive at the router, they will wait in a queue (in the order in which they arrived, so FIFO - first in, first out), and they will be released only at a rate of 100 Mbps. Also, the queue size will be limited to 0.5 MByte, so once packets arrive at the queue and find it to be full, they will be dropped. This will indicate to the sender (“romeo”) that it should slow down its sending rate."
   ],
   "id": "8c6622eb-dc1c-4547-8398-9a1e90ec0c01"
  },
  {
   "cell_type": "code",
   "execution_count": null,
   "metadata": {},
   "outputs": [],
   "source": [
    "remote_router.run('sudo tc qdisc del dev $(ip route get 10.10.1.100 | grep -oP \"(?<=dev )[^ ]+\") root')"
   ],
   "id": "146ab7a3-1fd2-468f-9f9c-7dca41808340"
  },
  {
   "cell_type": "code",
   "execution_count": null,
   "metadata": {},
   "outputs": [],
   "source": [
    "remote_router.run('sudo tc qdisc del dev $(ip route get 10.10.2.100 | grep -oP \"(?<=dev )[^ ]+\") root')"
   ],
   "id": "dc0c837d-d826-49e1-8dc3-2ce729ca1263"
  },
  {
   "cell_type": "code",
   "execution_count": null,
   "metadata": {},
   "outputs": [],
   "source": [
    "remote_router.run('sudo tc qdisc add dev $(ip route get 10.10.2.100 | grep -oP \"(?<=dev )[^ ]+\") root handle 1: htb default 3')\n",
    "remote_router.run('sudo tc class add dev $(ip route get 10.10.2.100 | grep -oP \"(?<=dev )[^ ]+\") parent 1: classid 1:3 htb rate 100Mbit')\n",
    "remote_router.run('sudo tc qdisc add dev $(ip route get 10.10.2.100 | grep -oP \"(?<=dev )[^ ]+\") parent 1:3 handle 3: bfifo limit 0.5MB')\n"
   ],
   "id": "62ed062e-6bc3-469a-9d9e-005d030b5c75"
  },
  {
   "cell_type": "markdown",
   "metadata": {},
   "source": [
    "We will validate the change using `iperf3` to generate a data flow from “romeo” to “juliet” - we should see a data rate that is just a little bit less than 100 Mbps."
   ],
   "id": "87ede8fd-31cd-41b2-ad4c-d1f0f942da24"
  },
  {
   "cell_type": "code",
   "execution_count": null,
   "metadata": {},
   "outputs": [],
   "source": [
    "remote_juliet.run('iperf3 -s -1', disown=True)"
   ],
   "id": "cb653566-58d6-425c-a2e4-d5003d3ab8e5"
  },
  {
   "cell_type": "code",
   "execution_count": null,
   "metadata": {},
   "outputs": [],
   "source": [
    "remote_romeo.run('iperf3 -c juliet')"
   ],
   "id": "0758a133-1422-466f-b373-907e327758df"
  },
  {
   "cell_type": "markdown",
   "metadata": {},
   "source": [
    "Finally, we can also add a `netem` element *after* an `htb` token bucket, to combine rate limiting along with delay (and/or packet loss)! Try the following sequence of commands:"
   ],
   "id": "f1404ee4-543d-422d-83c7-2055ea0b1467"
  },
  {
   "cell_type": "code",
   "execution_count": null,
   "metadata": {},
   "outputs": [],
   "source": [
    "remote_router.run('sudo tc qdisc del dev $(ip route get 10.10.1.100 | grep -oP \"(?<=dev )[^ ]+\") root')"
   ],
   "id": "28408b05-ed9e-4b2d-b322-847869597eae"
  },
  {
   "cell_type": "code",
   "execution_count": null,
   "metadata": {},
   "outputs": [],
   "source": [
    "remote_router.run('sudo tc qdisc del dev $(ip route get 10.10.2.100 | grep -oP \"(?<=dev )[^ ]+\") root')"
   ],
   "id": "0d5d7579-39c5-422f-8096-c7080c996ab3"
  },
  {
   "cell_type": "code",
   "execution_count": null,
   "metadata": {},
   "outputs": [],
   "source": [
    "# only add delay to the direction from \"juliet\" toward \"romeo\"\n",
    "remote_router.run('sudo tc qdisc add dev $(ip route get 10.10.1.100 | grep -oP \"(?<=dev )[^ ]+\") root netem delay 10ms')"
   ],
   "id": "c12afabf-a181-4258-95f3-7fe07c6e613e"
  },
  {
   "cell_type": "code",
   "execution_count": null,
   "metadata": {},
   "outputs": [],
   "source": [
    "# add delay and also rate limiting in the direction from \"romeo\" toward \"juliet\"\n",
    "remote_router.run('sudo tc qdisc add dev $(ip route get 10.10.2.100 | grep -oP \"(?<=dev )[^ ]+\") root handle 1: htb default 3')\n",
    "remote_router.run('sudo tc class add dev $(ip route get 10.10.2.100 | grep -oP \"(?<=dev )[^ ]+\") parent 1: classid 1:3 htb rate 100Mbit')\n",
    "remote_router.run('sudo tc qdisc add dev $(ip route get 10.10.2.100 | grep -oP \"(?<=dev )[^ ]+\") parent 1:3 handle 3: netem delay 10ms')\n",
    "remote_router.run('sudo tc qdisc add dev $(ip route get 10.10.2.100 | grep -oP \"(?<=dev )[^ ]+\") parent 3: bfifo limit 0.5MB')"
   ],
   "id": "4a953c71-fe1e-4072-85c2-10ae1332fcb4"
  },
  {
   "cell_type": "markdown",
   "metadata": {},
   "source": [
    "and, validate the change:"
   ],
   "id": "8b9d1fe0-c0ce-4ec9-b594-f948b24b0b3a"
  },
  {
   "cell_type": "code",
   "execution_count": null,
   "metadata": {},
   "outputs": [],
   "source": [
    "remote_juliet.run('iperf3 -s -1', disown=True)"
   ],
   "id": "c19c6384-a859-4df0-ae43-0379c652d41f"
  },
  {
   "cell_type": "code",
   "execution_count": null,
   "metadata": {},
   "outputs": [],
   "source": [
    "remote_romeo.run('iperf3 -c juliet')"
   ],
   "id": "7f8960a3-dfcc-4e6e-a51b-83c64b557e38"
  },
  {
   "cell_type": "code",
   "execution_count": null,
   "metadata": {},
   "outputs": [],
   "source": [
    "remote_romeo.run('ping -c 60 juliet')"
   ],
   "id": "7803db06-ddf3-4eca-99d6-33e0b4fd8f68"
  },
  {
   "cell_type": "markdown",
   "metadata": {},
   "source": [
    "## Delete resources\n",
    "\n",
    "To free your resources, run the following cell:"
   ],
   "id": "8b97f6b9-8776-45ce-a621-92b92eba7a68"
  },
  {
   "cell_type": "code",
   "execution_count": null,
   "metadata": {},
   "outputs": [],
   "source": [
    "for server_id in [romeo_id, juliet_id, router_id]:\n",
    "    chi.server.delete_server(server_id)\n",
    "    \n",
    "for reserved_fip in [fip_romeo, fip_juliet, fip_router]:\n",
    "    ip_details = chi.network.get_floating_ip(reserved_fip)\n",
    "    chi.neutron().delete_floatingip(ip_details[\"id\"])\n",
    "    \n",
    "chi.network.remove_subnet_from_router(router.get(\"id\"), public_subnet.get(\"id\"))\n",
    "chi.network.delete_router(router.get(\"id\"))\n",
    "\n",
    "chi.network.delete_subnet(public_subnet.get('id'))\n",
    "chi.network.delete_network(public_net.get(\"id\"))\n",
    "\n",
    "chi.network.delete_subnet(exp_subnet_1.get('id'))\n",
    "chi.network.delete_network(exp_net_1.get(\"id\"))\n",
    "\n",
    "chi.network.delete_subnet(exp_subnet_2.get('id'))\n",
    "chi.network.delete_network(exp_net_2.get(\"id\"))"
   ],
   "id": "0c600598-3202-4f9c-bb04-7fa2338a193d"
  }
 ],
 "nbformat": 4,
 "nbformat_minor": 5,
 "metadata": {}
}
