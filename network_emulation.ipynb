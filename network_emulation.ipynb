{
 "cells": [
  {
   "cell_type": "markdown",
   "metadata": {},
   "source": [
    "# Emulating network impairments\n",
    "\n",
    "When we do experiments involving computer networks, we often want to “mimic” specific network scenarios. For example, we might want to “mimic” a satellite wireless network (which tends to have low data rate and very large delay), or a fiber optic wired network link (which tends to have high data rate and small delay). Even when the specific network we want to “mimic” is not available to us for experimentation, we can use a technique called *network emulation* to make any existing network have the desired characteristics.\n",
    "\n",
    "This notebook will show you how to:\n",
    "\n",
    "-   launch three VMs with network connectivity in a line topology\n",
    "-   attach a public IP address to each VM, so that you can access it over SSH\n",
    "-   configure the VM interfaces on the “experiment” network\n",
    "-   measure the characteristics of the pre-existing network\n",
    "-   emulate different network conditions (packet loss, delay, jitter, data rate) over this link\n",
    "-   delete resources"
   ],
   "id": "098af34f-72fb-4b1c-8cba-383c71381733"
  },
  {
   "cell_type": "markdown",
   "metadata": {},
   "source": [
    "## Launch three VMs in a line\n",
    "\n",
    "In this exercise, we will reserve resources on KVM@TACC: two hosts (VMs) on two different network segments, connected by a router (also a VM).\n",
    "\n",
    "When we send data from one host to the other, that data will go *through* the router."
   ],
   "id": "6326ff2d-8baa-47f3-ae02-aad2a05d1cb6"
  },
  {
   "cell_type": "markdown",
   "metadata": {},
   "source": [
    "First, we load some required libraries:"
   ],
   "id": "ea3e041d-9818-4115-911b-aba01fcefcaa"
  },
  {
   "cell_type": "code",
   "execution_count": null,
   "metadata": {},
   "outputs": [],
   "source": [
    "# enable autoreload magic to pull in updated utils.py \n",
    "%load_ext autoreload\n",
    "%autoreload 2"
   ],
   "id": "4893d843-1425-4baa-8ee0-494a1047c28a"
  },
  {
   "cell_type": "code",
   "execution_count": null,
   "metadata": {},
   "outputs": [],
   "source": [
    "import openstack\n",
    "import chi\n",
    "import chi.ssh\n",
    "import os \n",
    "import utils\n",
    "# configure openstacksdk for actions unsupported by python-chi\n",
    "os_conn = chi.clients.connection()"
   ],
   "id": "12bb7785-7e49-410d-8d8e-e1cc94e74bfa"
  },
  {
   "cell_type": "markdown",
   "metadata": {},
   "source": [
    "We indicate that we’re going to use the KVM@TACC site. We also need to specify the name of the Chameleon “project: that this experiment is part of. The project name will have the format “CHI-XXXXXX”, where the last part is a 6-digit number, and you can find it on your user dashboard.\n",
    "\n",
    "In the cell below, replace the project ID with your own project ID, then run the cell."
   ],
   "id": "555d2784-b58d-41ef-8bc2-4353ae5bc876"
  },
  {
   "cell_type": "code",
   "execution_count": null,
   "metadata": {},
   "outputs": [],
   "source": [
    "chi.use_site(\"KVM@TACC\")\n",
    "PROJECT_NAME = \"CHI-XXXXXX\"\n",
    "chi.set(\"project_name\", PROJECT_NAME)"
   ],
   "id": "4381f5af-e814-4985-b9c2-670fa44a50ad"
  },
  {
   "cell_type": "markdown",
   "metadata": {},
   "source": [
    "Next, we will create three network links:\n",
    "\n",
    "-   One “public” network link, that we will use to connect to our hosts and router via SSH. The network interfaces on this link will have addresses in the range 192.168.10.X, where X is any integer from 1 to 254.\n",
    "-   One “experiment” network link, that will connect the “romeo” host to the router. The network interfaces on this link will have addresses in the range 10.10.1.X, where X is any integer from 1 to 254.\n",
    "-   One “experiment” network link, that will connect the “juliet” host to the router. The network interfaces on this link will have addresses in the range 10.10.2.X, where X is any integer from 1 to 254.\n",
    "\n",
    "We will make sure the networks have our username as part of the network name, so that we can easily identify them in the KVM@TACC web interface."
   ],
   "id": "c90eae6d-af94-4c7a-9fd3-16a98c260117"
  },
  {
   "cell_type": "code",
   "execution_count": null,
   "metadata": {},
   "outputs": [],
   "source": [
    "# create three networks. One will be used for SSH and API access,\n",
    "# and the other two will be used for experiments. \n",
    "# We need to disable port security on those two experiment networks.\n",
    "\n",
    "username = os.getenv('USER')\n",
    "public_net = utils.ensure_network(os_conn, network_name=\"public-net-\" + username)\n",
    "exp_net_1  = utils.ensure_network(os_conn, network_name=\"exp-net-1-\" + username)\n",
    "exp_net_2  = utils.ensure_network(os_conn, network_name=\"exp-net-2-\" + username)\n",
    "\n",
    "public_subnet = utils.ensure_subnet(\n",
    "    os_conn,\n",
    "    name=\"public-subnet-\" + username,\n",
    "    network_id=public_net.get(\"id\"),\n",
    "    ip_version='4',\n",
    "    cidr=\"192.168.10.0/24\",\n",
    "    gateway_ip=\"192.168.10.1\"\n",
    ")\n",
    "\n",
    "exp_subnet_1 = utils.ensure_subnet(\n",
    "    os_conn,\n",
    "    name=\"exp-subnet-1-\" + username,\n",
    "    network_id=exp_net_1.get(\"id\"),\n",
    "    ip_version='4',\n",
    "    cidr=\"10.10.1.0/24\",\n",
    "    enable_dhcp=True,\n",
    "    gateway_ip=None\n",
    ")\n",
    "\n",
    "exp_subnet_2 = utils.ensure_subnet(\n",
    "    os_conn,\n",
    "    name=\"exp-subnet-2-\" + username,\n",
    "    network_id=exp_net_2.get(\"id\"),\n",
    "    ip_version='4',\n",
    "    cidr=\"10.10.2.0/24\",\n",
    "    enable_dhcp=True,\n",
    "    gateway_ip=None\n",
    ")"
   ],
   "id": "0c0ed6c6-787f-49da-aced-12fa7e4b0d9f"
  },
  {
   "cell_type": "markdown",
   "metadata": {},
   "source": [
    "We need to configure the two “experiment” links so that they will carry all traffic between the hosts - we will need to disable the default security settings on them."
   ],
   "id": "0e081436-0b84-471f-87f0-d5ff16246602"
  },
  {
   "cell_type": "code",
   "execution_count": null,
   "metadata": {},
   "outputs": [],
   "source": [
    "netid_1 = chi.network.get_network_id(\"exp-net-1-\" + username)\n",
    "netid_2 = chi.network.get_network_id(\"exp-net-2-\" + username)"
   ],
   "id": "7afb71c2-d146-4dc3-a5cb-294f57de2e93"
  },
  {
   "cell_type": "code",
   "execution_count": null,
   "metadata": {},
   "outputs": [],
   "source": [
    "%%bash -s \"$PROJECT_NAME\" \"$netid_1\" \"$netid_2\"\n",
    "export OS_PROJECT_NAME=$1\n",
    "export OS_AUTH_URL=https://kvm.tacc.chameleoncloud.org:5000/v3\n",
    "export OS_REGION_NAME=KVM@TACC\n",
    "access_token=$(curl -s -H\"authorization: token $JUPYTERHUB_API_TOKEN\" \"$JUPYTERHUB_API_URL/users/$JUPYTERHUB_USER\" | jq -r .auth_state.access_token)\n",
    "export OS_ACCESS_TOKEN=\"$access_token\"\n",
    "\n",
    "openstack network set --disable-port-security $2\n",
    "openstack network set --disable-port-security $3"
   ],
   "id": "d88eb29b-ba36-456a-b76d-15579bd29726"
  },
  {
   "cell_type": "markdown",
   "metadata": {},
   "source": [
    "Now, we will create the three VMs - romeo, juliet, and router, with a network interface on the appropriate links."
   ],
   "id": "1276674b-45f6-46ef-9cdd-f2a9016485b7"
  },
  {
   "cell_type": "code",
   "execution_count": null,
   "metadata": {},
   "outputs": [],
   "source": [
    "# Now, create three VMs - romeo, juliet, and router\n",
    "\n",
    "image_uuid = os_conn.image.find_image(\"CC-Ubuntu20.04\").id\n",
    "flavor_uuid = os_conn.compute.find_flavor(\"m1.small\").id\n",
    "\n",
    "server_romeo = utils.ensure_server(\n",
    "    os_conn,\n",
    "    name=\"romeo_\" + username,\n",
    "    image_id=image_uuid,\n",
    "    flavor_id=flavor_uuid,\n",
    "    nics=[\n",
    "        {\"net-id\": public_net.get(\"id\"), \"v4-fixed-ip\":\"192.168.10.10\"},\n",
    "        {\"net-id\": netid_1, \"v4-fixed-ip\":\"10.10.1.100\"},\n",
    "    ]\n",
    ")\n",
    "\n",
    "server_juliet = utils.ensure_server(\n",
    "    os_conn,\n",
    "    name=\"juliet_\" + username,\n",
    "    image_id=image_uuid,\n",
    "    flavor_id=flavor_uuid,\n",
    "    nics=[\n",
    "        {\"net-id\": public_net.get(\"id\"), \"v4-fixed-ip\":\"192.168.10.20\"},\n",
    "        {\"net-id\": netid_2, \"v4-fixed-ip\":\"10.10.2.100\"},\n",
    "    ]\n",
    ")\n",
    "\n",
    "server_router = utils.ensure_server(\n",
    "    os_conn,\n",
    "    name=\"router_\" + username,\n",
    "    image_id=image_uuid,\n",
    "    flavor_id=flavor_uuid,\n",
    "    nics=[\n",
    "        {\"net-id\": public_net.get(\"id\"), \"v4-fixed-ip\":\"192.168.10.30\"},\n",
    "        {\"net-id\": netid_1, \"v4-fixed-ip\":\"10.10.1.10\"},\n",
    "        {\"net-id\": netid_2, \"v4-fixed-ip\":\"10.10.2.10\"},\n",
    "    ]\n",
    ")"
   ],
   "id": "587b2cf6-9349-4659-87e2-1ac2c00db35b"
  },
  {
   "cell_type": "code",
   "execution_count": null,
   "metadata": {},
   "outputs": [],
   "source": [
    "romeo_id  = chi.server.get_server('romeo_' + username).id\n",
    "juliet_id = chi.server.get_server('juliet_' + username).id\n",
    "router_id = chi.server.get_server('router_' + username).id"
   ],
   "id": "ea00ef9b-7903-4fe7-b6b1-48c3afbf6f07"
  },
  {
   "cell_type": "markdown",
   "metadata": {},
   "source": [
    "We will wait for our VMs to come up:"
   ],
   "id": "ca0c86a4-6e21-4b2c-bb26-e5e762fdbb09"
  },
  {
   "cell_type": "code",
   "execution_count": null,
   "metadata": {},
   "outputs": [],
   "source": [
    "chi.server.wait_for_active(romeo_id)\n",
    "chi.server.wait_for_active(juliet_id)\n",
    "chi.server.wait_for_active(router_id)"
   ],
   "id": "ffdd1541-27d7-4816-8aab-26ea3c2a4897"
  },
  {
   "cell_type": "markdown",
   "metadata": {},
   "source": [
    "## Attach an address for SSH access"
   ],
   "id": "2fc00169-53c6-4e4b-b029-a37cb927e513"
  },
  {
   "cell_type": "markdown",
   "metadata": {},
   "source": [
    "Next, we will set up SSH access to the VMs.\n",
    "\n",
    "First, we will make sure the “public” network is connected to the Internet."
   ],
   "id": "060e7e38-cf9d-4342-8a63-234c5acac2b0"
  },
  {
   "cell_type": "code",
   "execution_count": null,
   "metadata": {},
   "outputs": [],
   "source": [
    "# connect them to the Internet on the \"public\" network (e.g. for software installation)\n",
    "router = chi.network.create_router('inet-router-' + username, gw_network_name='public')\n",
    "chi.network.add_subnet_to_router(router.get(\"id\"), public_subnet.get(\"id\"))"
   ],
   "id": "814f8881-310e-4c06-b45b-e50e70014293"
  },
  {
   "cell_type": "code",
   "execution_count": null,
   "metadata": {},
   "outputs": [],
   "source": [
    "# prepare SSH access on the three servers\n",
    "fip_romeo = chi.server.associate_floating_ip(romeo_id)\n",
    "fip_juliet = chi.server.associate_floating_ip(juliet_id)\n",
    "fip_router = chi.server.associate_floating_ip(router_id)"
   ],
   "id": "581a0b72-2fcd-4c87-9c6d-5b191f6c8163"
  },
  {
   "cell_type": "markdown",
   "metadata": {},
   "source": [
    "Note: The following cell assumes that a security group named “Allow SSH” already exists in your project, and is configured to allow SSH access on port 22. If you have done the “Hello, Chameleon” experiment then you already have this security group."
   ],
   "id": "cbaca8ab-36ba-4936-8d37-c838bfe5d8ce"
  },
  {
   "cell_type": "code",
   "execution_count": null,
   "metadata": {},
   "outputs": [],
   "source": [
    "[port_id_1, port_id_2, port_id_3 ] = [port['id'] for port in chi.network.list_ports() if port['port_security_enabled'] and port['network_id']==public_net.get(\"id\")]\n",
    "security_group_id = os_conn.get_security_group(\"Allow SSH\").id"
   ],
   "id": "a27e38be-ee47-48c6-a42c-5f6ee344a82f"
  },
  {
   "cell_type": "code",
   "execution_count": null,
   "metadata": {},
   "outputs": [],
   "source": [
    "%%bash -s \"$PROJECT_NAME\" \"$security_group_id\" \"$port_id_1\" \"$port_id_2\" \"$port_id_3\" \n",
    "\n",
    "export OS_PROJECT_NAME=$1\n",
    "export OS_AUTH_URL=https://kvm.tacc.chameleoncloud.org:5000/v3\n",
    "export OS_REGION_NAME=KVM@TACC\n",
    "access_token=$(curl -s -H\"authorization: token $JUPYTERHUB_API_TOKEN\"     \"$JUPYTERHUB_API_URL/users/$JUPYTERHUB_USER\"     | jq -r .auth_state.access_token)\n",
    "export OS_ACCESS_TOKEN=\"$access_token\"\n",
    "\n",
    "openstack port set \"$3\" --security-group \"$2\"\n",
    "openstack port set \"$4\" --security-group \"$2\"\n",
    "openstack port set \"$5\" --security-group \"$2\""
   ],
   "id": "e14fe119-ca69-4b6e-9100-7490aa32c0d7"
  },
  {
   "cell_type": "markdown",
   "metadata": {},
   "source": [
    "Also copy your account keys to all of the resources:"
   ],
   "id": "0f45fa86-26c0-49a0-93bb-972c74e5b918"
  },
  {
   "cell_type": "code",
   "execution_count": null,
   "metadata": {},
   "outputs": [],
   "source": [
    "remote_router = chi.ssh.Remote(fip_router) \n",
    "remote_romeo = chi.ssh.Remote(fip_romeo) \n",
    "remote_juliet = chi.ssh.Remote(fip_juliet) "
   ],
   "id": "4951b9dd-2b1d-448a-9761-3e831f69d173"
  },
  {
   "cell_type": "code",
   "execution_count": null,
   "metadata": {},
   "outputs": [],
   "source": [
    "nova=chi.clients.nova()\n",
    "# iterate over all keypairs in this account\n",
    "for kp in nova.keypairs.list(): \n",
    "    public_key = nova.keypairs.get(kp.name).public_key \n",
    "    remote_router.run(f\"echo {public_key} >> ~/.ssh/authorized_keys\") \n",
    "    remote_romeo.run(f\"echo {public_key} >> ~/.ssh/authorized_keys\") \n",
    "    remote_juliet.run(f\"echo {public_key} >> ~/.ssh/authorized_keys\") "
   ],
   "id": "5a95f1a4-9309-4413-a2d9-0eccf1684128"
  },
  {
   "cell_type": "markdown",
   "metadata": {},
   "source": [
    "Now, we will be able to log in to our resources over SSH! Run the following cells, and observe the output - you will see an SSH command for each of the nodes in your topology."
   ],
   "id": "1e763dc2-4366-4a74-8e53-3fb6319c2001"
  },
  {
   "cell_type": "code",
   "execution_count": null,
   "metadata": {},
   "outputs": [],
   "source": [
    "# for romeo:\n",
    "print(f\"ssh cc@{fip_romeo}\")"
   ],
   "id": "a71a23d5-3f2a-4603-ad30-a38b05f01433"
  },
  {
   "cell_type": "code",
   "execution_count": null,
   "metadata": {},
   "outputs": [],
   "source": [
    "# for juliet:\n",
    "print(f\"ssh cc@{fip_juliet}\")"
   ],
   "id": "8c526b92-f74b-4c86-a56a-4eb26756724b"
  },
  {
   "cell_type": "code",
   "execution_count": null,
   "metadata": {},
   "outputs": [],
   "source": [
    "# for router:\n",
    "print(f\"ssh cc@{fip_router}\")"
   ],
   "id": "70591aac-7770-42d5-8f02-9cfaa4a324ed"
  },
  {
   "cell_type": "markdown",
   "metadata": {},
   "source": [
    "Now, you can open an SSH session on any of the nodes as follows:\n",
    "\n",
    "-   In Jupyter, from the menu bar, use File \\> New \\> Terminal to open a new terminal.\n",
    "-   Copy an SSH command from the output above, and paste it into the terminal.\n",
    "\n",
    "You can repeat this process (open several terminals) to start a session on each host and the router. Each terminal session will have a tab in the Jupyter environment, so that you can easily switch between them.\n",
    "\n",
    "Alternatively, you can use your local terminal to log on to each host and the router, if you prefer."
   ],
   "id": "6ffeb9d5-202a-4824-be89-afe1cb7c8c10"
  },
  {
   "cell_type": "markdown",
   "metadata": {},
   "source": [
    "## Configure interfaces on the experiment network"
   ],
   "id": "e299a410-beae-4086-835f-c3c92d8c2b58"
  },
  {
   "cell_type": "markdown",
   "metadata": {},
   "source": [
    "Next, we need to configure our resources - assign addresses to network interfaces, enable forwarding on the router, and install any necessary software."
   ],
   "id": "40b255e0-6e70-4c09-972b-4a294889f209"
  },
  {
   "cell_type": "code",
   "execution_count": null,
   "metadata": {},
   "outputs": [],
   "source": [
    "# configure the router to forward traffic\n",
    "remote_router.run(f\"sudo sysctl -w net.ipv4.ip_forward=1\") \n",
    "remote_router.run(f\"sudo ufw disable\") \n",
    "remote_router.run(f\"sudo apt update; sudo apt -y install net-tools\") "
   ],
   "id": "c77b5fc4-bc17-4dc2-8e1a-a08c4f94983c"
  },
  {
   "cell_type": "code",
   "execution_count": null,
   "metadata": {},
   "outputs": [],
   "source": [
    "# configure the romeo host\n",
    "remote_romeo.run(f\"sudo ip route add 10.10.2.0/24 via 10.10.1.10\") \n",
    "remote_romeo.run(f\"echo '10.10.2.100 juliet' | sudo tee -a /etc/hosts > /dev/null\") \n",
    "remote_romeo.run(f\"sudo apt update; sudo apt -y install iperf3\") "
   ],
   "id": "6c4ccdbc-d69c-46c6-9ba1-1fd2fe38126e"
  },
  {
   "cell_type": "code",
   "execution_count": null,
   "metadata": {},
   "outputs": [],
   "source": [
    "# configure the juliet host\n",
    "remote_juliet.run(f\"sudo ip route add 10.10.1.0/24 via 10.10.2.10\") \n",
    "remote_juliet.run(f\"echo '10.10.1.100 romeo' | sudo tee -a /etc/hosts > /dev/null\") \n",
    "remote_juliet.run(f\"sudo apt update; sudo apt -y install iperf3\") "
   ],
   "id": "4fd3dc8b-26cf-4ff2-9377-10974995e90b"
  },
  {
   "cell_type": "markdown",
   "metadata": {},
   "source": [
    "## Measure the network"
   ],
   "id": "f48fd16b-c039-47da-b2a4-2b51840c7811"
  },
  {
   "cell_type": "markdown",
   "metadata": {},
   "source": [
    "## Emulate network impairments"
   ],
   "id": "77c2775f-471b-42d0-b31a-1b98e9c08504"
  },
  {
   "cell_type": "markdown",
   "metadata": {},
   "source": [
    "## Delete resources\n",
    "\n",
    "To free your resources, run the following cell:"
   ],
   "id": "340b826d-9dd9-4bca-b80b-661b6c2e3b4f"
  },
  {
   "cell_type": "code",
   "execution_count": null,
   "metadata": {},
   "outputs": [],
   "source": [
    "for server_id in [romeo_id, juliet_id, router_id]:\n",
    "    chi.server.delete_server(server_id)\n",
    "    \n",
    "for reserved_fip in [fip_romeo, fip_juliet, fip_router]:\n",
    "    ip_details = chi.network.get_floating_ip(reserved_fip)\n",
    "    chi.neutron().delete_floatingip(ip_details[\"id\"])\n",
    "    \n",
    "chi.network.remove_subnet_from_router(router.get(\"id\"), public_subnet.get(\"id\"))\n",
    "chi.network.delete_router(router.get(\"id\"))\n",
    "\n",
    "chi.network.delete_subnet(public_subnet.get('id'))\n",
    "chi.network.delete_network(public_net.get(\"id\"))\n",
    "\n",
    "chi.network.delete_subnet(exp_subnet_1.get('id'))\n",
    "chi.network.delete_network(exp_net_1.get(\"id\"))\n",
    "\n",
    "chi.network.delete_subnet(exp_subnet_2.get('id'))\n",
    "chi.network.delete_network(exp_net_2.get(\"id\"))"
   ],
   "id": "a9194a9c-1607-4493-b613-59fb316b4d2c"
  }
 ],
 "nbformat": 4,
 "nbformat_minor": 5,
 "metadata": {}
}
