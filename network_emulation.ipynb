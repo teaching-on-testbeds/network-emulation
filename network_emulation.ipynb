{
 "cells": [
  {
   "cell_type": "markdown",
   "metadata": {},
   "source": [
    "# Emulating network impairments\n",
    "\n",
    "When we do experiments involving computer networks, we often want to “mimic” specific network scenarios. For example, we might want to “mimic” a satellite wireless network (which tends to have low data rate and very large delay), or a fiber optic wired network link (which tends to have high data rate and small delay). Even when the specific network we want to “mimic” is not available to us for experimentation, we can use a technique called *network emulation* to make any existing network have the desired characteristics.\n",
    "\n",
    "This notebook will show you how to:\n",
    "\n",
    "-   launch three VMs with network connectivity in a line topology\n",
    "-   attach a public IP address to each VM, so that you can access it over SSH\n",
    "-   configure the VM interfaces on the “experiment” network\n",
    "-   measure the characteristics of the pre-existing network\n",
    "-   emulate different network conditions (packet loss, delay, jitter, data rate) over this link\n",
    "-   delete resources"
   ],
   "id": "3ba166a7-0bb4-44a3-beba-656fa2b67a80"
  },
  {
   "cell_type": "markdown",
   "metadata": {},
   "source": [
    "## Launch three VMs in a line\n",
    "\n",
    "In this exercise, we will reserve resources on KVM@TACC: two hosts (VMs) on two different network segments, connected by a router (also a VM).\n",
    "\n",
    "When we send data from one host to the other, that data will go *through* the router."
   ],
   "id": "40b292eb-d4b3-4feb-a166-548a306b3fd0"
  },
  {
   "cell_type": "markdown",
   "metadata": {},
   "source": [
    "First, we load some required libraries:"
   ],
   "id": "3d2388d8-89b9-43e2-96d1-e712e5cee9f1"
  },
  {
   "cell_type": "code",
   "execution_count": null,
   "metadata": {},
   "outputs": [],
   "source": [
    "# enable autoreload magic to pull in updated utils.py \n",
    "%load_ext autoreload\n",
    "%autoreload 2"
   ],
   "id": "fa5f0911-9041-4eef-a9d4-b674d037279e"
  },
  {
   "cell_type": "code",
   "execution_count": null,
   "metadata": {},
   "outputs": [],
   "source": [
    "import openstack\n",
    "import chi\n",
    "import chi.ssh\n",
    "import os \n",
    "import utils"
   ],
   "id": "59b85b8a-0019-4210-88d4-618abba49129"
  },
  {
   "cell_type": "markdown",
   "metadata": {},
   "source": [
    "We indicate that we’re going to use the KVM@TACC site. We also need to specify the name of the Chameleon “project: that this experiment is part of. The project name will have the format “CHI-XXXXXX”, where the last part is a 6-digit number, and you can find it on your [user dashboard](https://chameleoncloud.org/user/dashboard/).\n",
    "\n",
    "In the cell below, replace the project ID with your own project ID, then run the cell."
   ],
   "id": "4cb7dc1a-0fcb-4c92-a502-f4fec50acf42"
  },
  {
   "cell_type": "code",
   "execution_count": null,
   "metadata": {},
   "outputs": [],
   "source": [
    "chi.use_site(\"KVM@TACC\")\n",
    "PROJECT_NAME = \"CHI-XXXXXX\"\n",
    "chi.set(\"project_name\", PROJECT_NAME)\n",
    "\n",
    "# configure openstacksdk for actions unsupported by python-chi\n",
    "os_conn = chi.clients.connection()"
   ],
   "id": "2f8adedb-ac2a-47d1-91b0-33c5cbe62a72"
  },
  {
   "cell_type": "markdown",
   "metadata": {},
   "source": [
    "Next, we will create three network links:\n",
    "\n",
    "-   One “public” network link, that we will use to connect to our hosts and router via SSH. The network interfaces on this link will have addresses in the range 192.168.10.X, where X is any integer from 1 to 254.\n",
    "-   One “experiment” network link, that will connect the “romeo” host to the router. The network interfaces on this link will have addresses in the range 10.10.1.X, where X is any integer from 1 to 254.\n",
    "-   One “experiment” network link, that will connect the “juliet” host to the router. The network interfaces on this link will have addresses in the range 10.10.2.X, where X is any integer from 1 to 254.\n",
    "\n",
    "We will make sure the networks have our username as part of the network name, so that we can easily identify them in the KVM@TACC web interface."
   ],
   "id": "05392678-88b4-4c84-9b5a-0d6ec354b17e"
  },
  {
   "cell_type": "code",
   "execution_count": null,
   "metadata": {},
   "outputs": [],
   "source": [
    "# create three networks. One will be used for SSH and API access,\n",
    "# and the other two will be used for experiments. \n",
    "# We need to disable port security on those two experiment networks.\n",
    "\n",
    "username = os.getenv('USER')\n",
    "public_net = utils.ensure_network(os_conn, network_name=\"public-net-\" + username)\n",
    "exp_net_1  = utils.ensure_network(os_conn, network_name=\"exp-net-1-\" + username)\n",
    "exp_net_2  = utils.ensure_network(os_conn, network_name=\"exp-net-2-\" + username)\n",
    "\n",
    "public_subnet = utils.ensure_subnet(\n",
    "    os_conn,\n",
    "    name=\"public-subnet-\" + username,\n",
    "    network_id=public_net.get(\"id\"),\n",
    "    ip_version='4',\n",
    "    cidr=\"192.168.10.0/24\",\n",
    "    gateway_ip=\"192.168.10.1\"\n",
    ")\n",
    "\n",
    "exp_subnet_1 = utils.ensure_subnet(\n",
    "    os_conn,\n",
    "    name=\"exp-subnet-1-\" + username,\n",
    "    network_id=exp_net_1.get(\"id\"),\n",
    "    ip_version='4',\n",
    "    cidr=\"10.10.1.0/24\",\n",
    "    enable_dhcp=True,\n",
    "    gateway_ip=None\n",
    ")\n",
    "\n",
    "exp_subnet_2 = utils.ensure_subnet(\n",
    "    os_conn,\n",
    "    name=\"exp-subnet-2-\" + username,\n",
    "    network_id=exp_net_2.get(\"id\"),\n",
    "    ip_version='4',\n",
    "    cidr=\"10.10.2.0/24\",\n",
    "    enable_dhcp=True,\n",
    "    gateway_ip=None\n",
    ")"
   ],
   "id": "9bee0fcd-92f8-4b6f-a0a0-f0ea144ac19d"
  },
  {
   "cell_type": "markdown",
   "metadata": {},
   "source": [
    "We need to configure the two “experiment” links so that they will carry all traffic between the hosts - we will need to disable the default security settings on them."
   ],
   "id": "b4a89c2e-dac4-431c-b006-f24c98b21ab5"
  },
  {
   "cell_type": "code",
   "execution_count": null,
   "metadata": {},
   "outputs": [],
   "source": [
    "netid_1 = exp_net_1['id']\n",
    "netid_2 = exp_net_2['id']"
   ],
   "id": "e72dc18c-64d9-4a45-8a28-a84683678045"
  },
  {
   "cell_type": "code",
   "execution_count": null,
   "metadata": {},
   "outputs": [],
   "source": [
    "%%bash -s \"$PROJECT_NAME\" \"$netid_1\" \"$netid_2\"\n",
    "export OS_PROJECT_NAME=$1\n",
    "export OS_AUTH_URL=https://kvm.tacc.chameleoncloud.org:5000/v3\n",
    "export OS_REGION_NAME=KVM@TACC\n",
    "access_token=$(curl -s -H\"authorization: token $JUPYTERHUB_API_TOKEN\" \"$JUPYTERHUB_API_URL/users/$JUPYTERHUB_USER\" | jq -r .auth_state.access_token)\n",
    "export OS_ACCESS_TOKEN=\"$access_token\"\n",
    "\n",
    "openstack network set --disable-port-security $2\n",
    "openstack network set --disable-port-security $3"
   ],
   "id": "b3a6efc0-4f95-4c01-9d20-3dff79a3b703"
  },
  {
   "cell_type": "markdown",
   "metadata": {},
   "source": [
    "Now, we will create the three VMs - romeo, juliet, and router, with a network interface on the appropriate links."
   ],
   "id": "bef5c079-0615-4fa9-8a6c-4bc13ba363d7"
  },
  {
   "cell_type": "code",
   "execution_count": null,
   "metadata": {},
   "outputs": [],
   "source": [
    "# Now, create three VMs - romeo, juliet, and router\n",
    "\n",
    "image_uuid = os_conn.image.find_image(\"CC-Ubuntu20.04\").id\n",
    "flavor_uuid = os_conn.compute.find_flavor(\"m1.small\").id\n",
    "\n",
    "server_romeo = utils.ensure_server(\n",
    "    os_conn,\n",
    "    name=\"romeo_\" + username,\n",
    "    image_id=image_uuid,\n",
    "    flavor_id=flavor_uuid,\n",
    "    nics=[\n",
    "        {\"net-id\": public_net.get(\"id\"), \"v4-fixed-ip\":\"192.168.10.10\"},\n",
    "        {\"net-id\": netid_1, \"v4-fixed-ip\":\"10.10.1.100\"},\n",
    "    ]\n",
    ")\n",
    "\n",
    "server_juliet = utils.ensure_server(\n",
    "    os_conn,\n",
    "    name=\"juliet_\" + username,\n",
    "    image_id=image_uuid,\n",
    "    flavor_id=flavor_uuid,\n",
    "    nics=[\n",
    "        {\"net-id\": public_net.get(\"id\"), \"v4-fixed-ip\":\"192.168.10.20\"},\n",
    "        {\"net-id\": netid_2, \"v4-fixed-ip\":\"10.10.2.100\"},\n",
    "    ]\n",
    ")\n",
    "\n",
    "server_router = utils.ensure_server(\n",
    "    os_conn,\n",
    "    name=\"router_\" + username,\n",
    "    image_id=image_uuid,\n",
    "    flavor_id=flavor_uuid,\n",
    "    nics=[\n",
    "        {\"net-id\": public_net.get(\"id\"), \"v4-fixed-ip\":\"192.168.10.30\"},\n",
    "        {\"net-id\": netid_1, \"v4-fixed-ip\":\"10.10.1.10\"},\n",
    "        {\"net-id\": netid_2, \"v4-fixed-ip\":\"10.10.2.10\"},\n",
    "    ]\n",
    ")"
   ],
   "id": "c37471c9-38f7-4835-8f48-45493505c923"
  },
  {
   "cell_type": "code",
   "execution_count": null,
   "metadata": {},
   "outputs": [],
   "source": [
    "romeo_id  = chi.server.get_server('romeo_' + username).id\n",
    "juliet_id = chi.server.get_server('juliet_' + username).id\n",
    "router_id = chi.server.get_server('router_' + username).id"
   ],
   "id": "4524d0d0-67f1-40f7-8212-eb71f175488c"
  },
  {
   "cell_type": "markdown",
   "metadata": {},
   "source": [
    "We will wait for our VMs to come up:"
   ],
   "id": "d90d9192-5841-4d98-a70a-e3ef3ad8ab8b"
  },
  {
   "cell_type": "code",
   "execution_count": null,
   "metadata": {},
   "outputs": [],
   "source": [
    "chi.server.wait_for_active(romeo_id)\n",
    "chi.server.wait_for_active(juliet_id)\n",
    "chi.server.wait_for_active(router_id)"
   ],
   "id": "a16edcfc-39b5-45f8-86a8-d6e374ef3b95"
  },
  {
   "cell_type": "markdown",
   "metadata": {},
   "source": [
    "## Attach an address for SSH access"
   ],
   "id": "6529a9d8-ae5d-4ab6-978d-6303cfa1cae8"
  },
  {
   "cell_type": "markdown",
   "metadata": {},
   "source": [
    "Next, we will set up SSH access to the VMs.\n",
    "\n",
    "First, we will make sure the “public” network is connected to the Internet."
   ],
   "id": "1b1fefec-f511-480c-87bc-ddbe3b350802"
  },
  {
   "cell_type": "code",
   "execution_count": null,
   "metadata": {},
   "outputs": [],
   "source": [
    "# connect them to the Internet on the \"public\" network (e.g. for software installation)\n",
    "router = chi.network.create_router('inet-router-' + username, gw_network_name='public')\n",
    "chi.network.add_subnet_to_router(router.get(\"id\"), public_subnet.get(\"id\"))"
   ],
   "id": "f0e36f77-83f3-4b0b-87f3-657febc220c5"
  },
  {
   "cell_type": "code",
   "execution_count": null,
   "metadata": {},
   "outputs": [],
   "source": [
    "# prepare SSH access on the three servers\n",
    "fip_romeo = chi.server.associate_floating_ip(romeo_id)\n",
    "fip_juliet = chi.server.associate_floating_ip(juliet_id)\n",
    "fip_router = chi.server.associate_floating_ip(router_id)"
   ],
   "id": "019d2aba-e245-47c2-90ae-50e36c171de2"
  },
  {
   "cell_type": "markdown",
   "metadata": {},
   "source": [
    "Note: The following cell assumes that a security group named “Allow SSH” already exists in your project, and is configured to allow SSH access on port 22. If you have done the “Hello, Chameleon” experiment then you already have this security group."
   ],
   "id": "418e5720-a224-43c8-97c4-d19d6507e9b9"
  },
  {
   "cell_type": "code",
   "execution_count": null,
   "metadata": {},
   "outputs": [],
   "source": [
    "[port_id_1, port_id_2, port_id_3 ] = [port['id'] for port in chi.network.list_ports() if port['port_security_enabled'] and port['network_id']==public_net.get(\"id\")]\n",
    "security_group_id = os_conn.get_security_group(\"Allow SSH\").id"
   ],
   "id": "aa73fb82-eacd-40d1-8cb3-2c4f5c5a2dbd"
  },
  {
   "cell_type": "code",
   "execution_count": null,
   "metadata": {},
   "outputs": [],
   "source": [
    "%%bash -s \"$PROJECT_NAME\" \"$security_group_id\" \"$port_id_1\" \"$port_id_2\" \"$port_id_3\" \n",
    "\n",
    "export OS_PROJECT_NAME=$1\n",
    "export OS_AUTH_URL=https://kvm.tacc.chameleoncloud.org:5000/v3\n",
    "export OS_REGION_NAME=KVM@TACC\n",
    "access_token=$(curl -s -H\"authorization: token $JUPYTERHUB_API_TOKEN\"     \"$JUPYTERHUB_API_URL/users/$JUPYTERHUB_USER\"     | jq -r .auth_state.access_token)\n",
    "export OS_ACCESS_TOKEN=\"$access_token\"\n",
    "\n",
    "openstack port set \"$3\" --security-group \"$2\"\n",
    "openstack port set \"$4\" --security-group \"$2\"\n",
    "openstack port set \"$5\" --security-group \"$2\""
   ],
   "id": "be42c3f3-70b1-403b-b2cc-c49ea7062c2d"
  },
  {
   "cell_type": "markdown",
   "metadata": {},
   "source": [
    "Also copy your account keys to all of the resources:"
   ],
   "id": "1a7bb313-5782-4a7a-be76-0d0c1c60abcf"
  },
  {
   "cell_type": "code",
   "execution_count": null,
   "metadata": {},
   "outputs": [],
   "source": [
    "remote_router = chi.ssh.Remote(fip_router) \n",
    "remote_romeo = chi.ssh.Remote(fip_romeo) \n",
    "remote_juliet = chi.ssh.Remote(fip_juliet) "
   ],
   "id": "ec417697-5f98-42ec-af7e-40dd7785146b"
  },
  {
   "cell_type": "code",
   "execution_count": null,
   "metadata": {},
   "outputs": [],
   "source": [
    "nova=chi.clients.nova()\n",
    "# iterate over all keypairs in this account\n",
    "for kp in nova.keypairs.list(): \n",
    "    public_key = nova.keypairs.get(kp.name).public_key \n",
    "    remote_router.run(f\"echo {public_key} >> ~/.ssh/authorized_keys\") \n",
    "    remote_romeo.run(f\"echo {public_key} >> ~/.ssh/authorized_keys\") \n",
    "    remote_juliet.run(f\"echo {public_key} >> ~/.ssh/authorized_keys\") "
   ],
   "id": "eb9f98c8-efd0-423b-a1d7-4d6401d01e0b"
  },
  {
   "cell_type": "markdown",
   "metadata": {},
   "source": [
    "At this point, we should be able to log in to our resources over SSH! Run the following cells, and observe the output - you will see an SSH command for each of the nodes in your topology."
   ],
   "id": "706ef919-5985-4685-99e7-263913b01650"
  },
  {
   "cell_type": "code",
   "execution_count": null,
   "metadata": {},
   "outputs": [],
   "source": [
    "# for romeo:\n",
    "print(f\"ssh cc@{fip_romeo}\")"
   ],
   "id": "f8b88dcb-bb7c-4f2c-a248-abc3e1aa6859"
  },
  {
   "cell_type": "code",
   "execution_count": null,
   "metadata": {},
   "outputs": [],
   "source": [
    "# for juliet:\n",
    "print(f\"ssh cc@{fip_juliet}\")"
   ],
   "id": "ea0c5861-66ef-4a81-aa52-4d46df0cda7b"
  },
  {
   "cell_type": "code",
   "execution_count": null,
   "metadata": {},
   "outputs": [],
   "source": [
    "# for router:\n",
    "print(f\"ssh cc@{fip_router}\")"
   ],
   "id": "b05c708d-2a54-4c94-948c-4c83d79d01c1"
  },
  {
   "cell_type": "markdown",
   "metadata": {},
   "source": [
    "Now, you can open an SSH session on any of the nodes as follows:\n",
    "\n",
    "-   In Jupyter, from the menu bar, use File \\> New \\> Terminal to open a new terminal.\n",
    "-   Copy an SSH command from the output above, and paste it into the terminal.\n",
    "\n",
    "You can repeat this process (open several terminals) to start a session on each host and the router. Each terminal session will have a tab in the Jupyter environment, so that you can easily switch between them.\n",
    "\n",
    "Alternatively, you can use your local terminal to log on to each host and the router, if you prefer."
   ],
   "id": "62b42bee-d844-497d-8c1e-e35309e70916"
  },
  {
   "cell_type": "markdown",
   "metadata": {},
   "source": [
    "## Configure interfaces on the experiment network"
   ],
   "id": "64ba3e12-14d5-43fa-abcc-fb3c207ab605"
  },
  {
   "cell_type": "markdown",
   "metadata": {},
   "source": [
    "Next, we need to configure our resources - assign addresses to network interfaces, enable forwarding on the router, and install any necessary software."
   ],
   "id": "d31517dd-d3ed-4d57-8b53-d2452d609470"
  },
  {
   "cell_type": "code",
   "execution_count": null,
   "metadata": {},
   "outputs": [],
   "source": [
    "# configure the router to forward traffic\n",
    "remote_router.run(f\"sudo sysctl -w net.ipv4.ip_forward=1\") \n",
    "remote_router.run(f\"sudo firewall-cmd --zone=trusted --add-source=192.168.0.0/16\")\n",
    "remote_router.run(f\"sudo firewall-cmd --zone=trusted --add-source=172.16.0.0/12\")\n",
    "remote_router.run(f\"sudo firewall-cmd --zone=trusted --add-source=10.0.0.0/8\")\n"
   ],
   "id": "222fcb88-c400-445a-8ee4-28929f947d76"
  },
  {
   "cell_type": "code",
   "execution_count": null,
   "metadata": {},
   "outputs": [],
   "source": [
    "# configure the romeo host\n",
    "remote_romeo.run(f\"sudo firewall-cmd --zone=trusted --add-source=192.168.0.0/16\")\n",
    "remote_romeo.run(f\"sudo firewall-cmd --zone=trusted --add-source=172.16.0.0/12\")\n",
    "remote_romeo.run(f\"sudo firewall-cmd --zone=trusted --add-source=10.0.0.0/8\")\n",
    "\n",
    "remote_romeo.run(f\"sudo ip route add 10.10.2.0/24 via 10.10.1.10\") \n",
    "remote_romeo.run(f\"echo '10.10.2.100 juliet' | sudo tee -a /etc/hosts > /dev/null\") \n",
    "remote_romeo.run(f\"sudo apt update; sudo apt -y install iperf3\") "
   ],
   "id": "5da10a0d-b0d8-4793-8d8a-583b5cf77572"
  },
  {
   "cell_type": "code",
   "execution_count": null,
   "metadata": {},
   "outputs": [],
   "source": [
    "# configure the juliet host\n",
    "remote_juliet.run(f\"sudo firewall-cmd --zone=trusted --add-source=192.168.0.0/16\")\n",
    "remote_juliet.run(f\"sudo firewall-cmd --zone=trusted --add-source=172.16.0.0/12\")\n",
    "remote_juliet.run(f\"sudo firewall-cmd --zone=trusted --add-source=10.0.0.0/8\")\n",
    "\n",
    "remote_juliet.run(f\"sudo ip route add 10.10.1.0/24 via 10.10.2.10\") \n",
    "remote_juliet.run(f\"echo '10.10.1.100 romeo' | sudo tee -a /etc/hosts > /dev/null\") \n",
    "remote_juliet.run(f\"sudo apt update; sudo apt -y install iperf3\") "
   ],
   "id": "61e5cd34-54e2-4180-ae55-b5058169b1f7"
  },
  {
   "cell_type": "markdown",
   "metadata": {},
   "source": [
    "## Measure the network\n",
    "\n",
    "Next, we are going to measure the characteristics of the existing network -\n",
    "\n",
    "-   what data rate do we observe when we try to send data as fast as possible through the network?\n",
    "-   how much delay is there, and how much delay variation, when we send small `ping` messages across the network and measure the time to receive a response?"
   ],
   "id": "ef9c80eb-d3fa-463f-af35-f0a3cf28c92e"
  },
  {
   "cell_type": "markdown",
   "metadata": {},
   "source": [
    "We will use the `iperf3` command to send data from “romeo” to “juliet” and measure the data rate. First, we’ll set up “juliet” to *receive* one data flow. Then, we’ll ask “romeo” to send a data flow for ten seconds, and report back with an average data rate."
   ],
   "id": "02a656f2-36db-4fc1-a780-f3d022ff6f65"
  },
  {
   "cell_type": "code",
   "execution_count": null,
   "metadata": {},
   "outputs": [],
   "source": [
    "remote_juliet.run('iperf3 -s -1', disown=True)"
   ],
   "id": "53f3b59f-a023-4d2b-96ca-1ddb5ed57d77"
  },
  {
   "cell_type": "code",
   "execution_count": null,
   "metadata": {},
   "outputs": [],
   "source": [
    "remote_romeo.run('iperf3 -c juliet')"
   ],
   "id": "28a875f6-e20f-4bb9-b7d3-5a15977b6d70"
  },
  {
   "cell_type": "markdown",
   "metadata": {},
   "source": [
    "Next, we will use the `ping` command to send those `ping` messages (10 of them!) and responses from “romeo” to “juliet”. The output will include the round trip time of each of the ten messages, and at the end, the minimum, average, maximum, and variation of the delay."
   ],
   "id": "cd310146-3f5a-4bda-9b83-70ff4e1ba694"
  },
  {
   "cell_type": "code",
   "execution_count": null,
   "metadata": {},
   "outputs": [],
   "source": [
    "remote_romeo.run('ping -c 10 juliet')"
   ],
   "id": "52121a66-4a2d-4d00-9c71-840fa05d21c6"
  },
  {
   "cell_type": "markdown",
   "metadata": {},
   "source": [
    "## Emulate network impairments"
   ],
   "id": "06d03e36-fae8-4345-9db4-bd9719c8dd40"
  },
  {
   "cell_type": "markdown",
   "metadata": {},
   "source": [
    "Now that we understand the characteristics of the “real” network, we can add network *impairments* that make it mimic other, *worse* networks.\n",
    "\n",
    "Note the word “impairment” - we can make the network *worse* but there is nothing we can do to make it better!\n",
    "\n",
    "For example, if the “real” network is capable of transferring data at 2 Gbps, we can *slow it down* and make it transfer data at only 100 Mbps. But we can’t make it *faster*, so we won’t be able to make it work at 10 Gbps.\n",
    "\n",
    "Similarly, if the delay across the “real” networks is about 1 ms, we can *add* 20 ms of delay to make the overall delay about 20 ms, but we can’t make the delay be *less* than 1 ms."
   ],
   "id": "40e37370-c396-47db-a932-7fae6f822005"
  },
  {
   "cell_type": "markdown",
   "metadata": {},
   "source": [
    "To add network impairments, we will use the Linux traffic control system, `tc`, which can apply various “rules” to all packets *leaving* a network interface. We will apply these rules at the router, since all traffic between “romeo” and “juliet” goes through the router.\n",
    "\n",
    "-   To add additional delay and delay variation to the *round trip time* between “romeo” and “juliet”, we would use `netem` and put *half* of the additional delay on the router interface that is on the same network link as “juliet” (this will apply to data from “romeo” to “juliet”), and the other *half* on the router interface that is on the same network link as “romeo” (this will apply to data from “juliet” to “romeo”). The *round trip delay* is the sum of the delays in each direction.\n",
    "-   To apply random packet loss to the data going from “romeo” *to* “juliet”, we would use `netem` to add loss at the router interface that is on the same network link as “juliet”, since packets going to “juliet” are going to *leave* the router through this interface.\n",
    "-   To slow down the data rate for data going from “romeo” *to*” “juliet”, we would apply a *token bucket* filter at the router interface that is on the same network link as “juliet”, since packets going to “juliet” are going to *leave* the router through this interface.\n",
    "\n",
    "We’ll start by adding these impairments individually, and then we will see how to add these in combination."
   ],
   "id": "d051fd8b-24a5-406e-af40-97265117e6d6"
  },
  {
   "cell_type": "markdown",
   "metadata": {},
   "source": [
    "One important note before we begin: in the commands that follow, we want to apply an impairment to a specific network interface on the router, and we need to refer to the interface by name. The router has multiple network interfaces, two of which are the “experiment” interfaces that we want to modify - we can see them by running `ip addr` on the router:"
   ],
   "id": "c153c6f1-fcb0-461c-b4d2-fee1c236ba86"
  },
  {
   "cell_type": "code",
   "execution_count": null,
   "metadata": {},
   "outputs": [],
   "source": [
    "remote_router.run('ip addr')"
   ],
   "id": "17a62cc2-5d7c-4031-a80f-6eefa73becd9"
  },
  {
   "cell_type": "markdown",
   "metadata": {},
   "source": [
    "We don’t know in advance what the interfaces will be named - e.g. in this experiment, the interface that connects the router to the link with “juliet” may be named `ens8` but in the next experiment it could be named `ens4`! But, in the commands that follow, we need to name the interface.\n",
    "\n",
    "Therefore, instead of using an interface name directly in these commands, we will use a command that returns the name of a particular interface. For example, the command"
   ],
   "id": "34c8cb0f-53fa-41b5-9560-2769806a6100"
  },
  {
   "cell_type": "code",
   "execution_count": null,
   "metadata": {},
   "outputs": [],
   "source": [
    "remote_router.run('ip route get 10.10.2.100 | grep -oP \"(?<=dev )[^ ]+\"')"
   ],
   "id": "d465a78a-6da7-4a1e-83f7-2af71a10f165"
  },
  {
   "cell_type": "markdown",
   "metadata": {},
   "source": [
    "will return the name of the router interface that will be used to forward packets to “juliet” (10.10.2.100), and the command"
   ],
   "id": "f4026dca-17ce-424e-a391-aceb06e91463"
  },
  {
   "cell_type": "code",
   "execution_count": null,
   "metadata": {},
   "outputs": [],
   "source": [
    "remote_router.run('ip route get 10.10.1.100 | grep -oP \"(?<=dev )[^ ]+\"')"
   ],
   "id": "69f8a683-577a-4852-a635-f3d4b3fd2e3d"
  },
  {
   "cell_type": "markdown",
   "metadata": {},
   "source": [
    "will return the name of the router interface that will be used to forward packets to “romeo” (10.10.1.100). When we use these commands inside a `$()` within another command, the command inside the `$()` is executed and its value is returned and used in the “parent” command. This way, we can specify an interface name in the `tc` commands without even knowing what the interface name is!"
   ],
   "id": "cf40822a-dfeb-44e2-bdb6-4ce132d6e72d"
  },
  {
   "cell_type": "markdown",
   "metadata": {},
   "source": [
    "With that in mind, let’s start by deleting any `tc` elements that might already be set up on either of the router interfaces. We specify that we want to delete (`del`) whatever might be there, we specify the name of the network interface (`dev` followed by a command inside `$()` which will be replaced by an interface name!), and we specify that we want to delete everything from the `root` of the interface (in case there is a “chain” of elements applied there!)\n",
    "\n",
    "If there is no `tc` element already applied, then trying to delete it will return an error, but that’s OK! You’ll notice throughout this notebook, we will typically try to delete any existing element before you add any new one, but we won’t be concerned if an error is raised when we try to *delete* an element."
   ],
   "id": "0e7823f0-9775-4075-b60a-fc48c131c5cf"
  },
  {
   "cell_type": "code",
   "execution_count": null,
   "metadata": {},
   "outputs": [],
   "source": [
    "remote_router.run('sudo tc qdisc del dev $(ip route get 10.10.1.100 | grep -oP \"(?<=dev )[^ ]+\") root')"
   ],
   "id": "9e77449a-7951-485c-ac1b-1292897e14a9"
  },
  {
   "cell_type": "code",
   "execution_count": null,
   "metadata": {},
   "outputs": [],
   "source": [
    "remote_router.run('sudo tc qdisc del dev $(ip route get 10.10.2.100 | grep -oP \"(?<=dev )[^ ]+\") root')"
   ],
   "id": "f00ce59e-b306-4133-b989-49ccdd4d5768"
  },
  {
   "cell_type": "markdown",
   "metadata": {},
   "source": [
    "Now, let’s use `netem` to add 10 ms of delay in *each* direction, for a total of 20 ms added to the round trip time.\n",
    "\n",
    "On the router, we will run:"
   ],
   "id": "64e0e98e-43df-42df-b31c-f6b9d3aa29cd"
  },
  {
   "cell_type": "code",
   "execution_count": null,
   "metadata": {},
   "outputs": [],
   "source": [
    "remote_router.run('sudo tc qdisc add dev $(ip route get 10.10.1.100 | grep -oP \"(?<=dev )[^ ]+\") root netem delay 10ms')"
   ],
   "id": "61d078e5-fc43-44e7-9d07-6f2e39b0df76"
  },
  {
   "cell_type": "code",
   "execution_count": null,
   "metadata": {},
   "outputs": [],
   "source": [
    "remote_router.run('sudo tc qdisc add dev $(ip route get 10.10.2.100 | grep -oP \"(?<=dev )[^ ]+\") root netem delay 10ms')"
   ],
   "id": "a9f4b31d-17a5-4290-b238-58b4e674d68b"
  },
  {
   "cell_type": "markdown",
   "metadata": {},
   "source": [
    "To test the change in delay, we will run our `ping` test again, but we’ll make it a little bit longer this time:"
   ],
   "id": "0b7eb2ff-3803-43be-865c-e6a29371b8ad"
  },
  {
   "cell_type": "code",
   "execution_count": null,
   "metadata": {},
   "outputs": [],
   "source": [
    "remote_romeo.run('ping -c 60 juliet')"
   ],
   "id": "83a4a5d6-941d-4a4a-997f-129b26d11c79"
  },
  {
   "cell_type": "markdown",
   "metadata": {},
   "source": [
    "Validate that the results now show an additional 20 ms of delay in the round trip time."
   ],
   "id": "b6b00679-b28e-405c-aa96-e982ba54c461"
  },
  {
   "cell_type": "markdown",
   "metadata": {},
   "source": [
    "Instead of adding a constant delay (same delay applied to every packet), we may want to add delay with some *variation*. Let’s *replace* the previous `netem` element with a different one, that also specifies a delay variation (second value after the word `delay`):"
   ],
   "id": "ef4dc0a8-e12e-4f88-a46c-de87b4d2aa3d"
  },
  {
   "cell_type": "code",
   "execution_count": null,
   "metadata": {},
   "outputs": [],
   "source": [
    "remote_router.run('sudo tc qdisc replace dev $(ip route get 10.10.1.100 | grep -oP \"(?<=dev )[^ ]+\") root netem delay 10ms 5ms')"
   ],
   "id": "3848f51e-c9d2-48b1-bfa0-b21463b07999"
  },
  {
   "cell_type": "code",
   "execution_count": null,
   "metadata": {},
   "outputs": [],
   "source": [
    "remote_router.run('sudo tc qdisc replace dev $(ip route get 10.10.2.100 | grep -oP \"(?<=dev )[^ ]+\") root netem delay 10ms 5ms')"
   ],
   "id": "6dabacde-e2ac-404b-a008-79ceadd88131"
  },
  {
   "cell_type": "markdown",
   "metadata": {},
   "source": [
    "Validate that the round trip time reported by `ping` now has substantially more variation:"
   ],
   "id": "2344d9d1-d5de-46f8-9710-724e7a4abbfe"
  },
  {
   "cell_type": "code",
   "execution_count": null,
   "metadata": {},
   "outputs": [],
   "source": [
    "remote_romeo.run('ping -c 60 juliet')"
   ],
   "id": "9e0c3646-a74f-4813-8ab8-b457a55bb557"
  },
  {
   "cell_type": "markdown",
   "metadata": {},
   "source": [
    "The `netem` element can also be used to add packet loss. Most networks have very little packet loss, but for this example, we’ll make it more extreme - we’ll specify 10% packet loss, which means that 1 out of every 10 packets will be dropped (on average). We will *only* apply this to packets going from “romeo” to “juliet”, not for packets going in the other direction.\n",
    "\n",
    "First, we’ll delete the existing (delay) `netem` elements, then we’ll add one that emulates packet loss:"
   ],
   "id": "b8fc33d4-e6b9-46e4-87fa-4c3cff468652"
  },
  {
   "cell_type": "code",
   "execution_count": null,
   "metadata": {},
   "outputs": [],
   "source": [
    "remote_router.run('sudo tc qdisc del dev $(ip route get 10.10.1.100 | grep -oP \"(?<=dev )[^ ]+\") root')"
   ],
   "id": "38b63ea3-c938-4de5-8059-2b58b57a402b"
  },
  {
   "cell_type": "code",
   "execution_count": null,
   "metadata": {},
   "outputs": [],
   "source": [
    "remote_router.run('sudo tc qdisc del dev $(ip route get 10.10.2.100 | grep -oP \"(?<=dev )[^ ]+\") root')"
   ],
   "id": "05bf92b3-7c80-4987-8599-8674dd309e60"
  },
  {
   "cell_type": "code",
   "execution_count": null,
   "metadata": {},
   "outputs": [],
   "source": [
    "remote_router.run('sudo tc qdisc add dev $(ip route get 10.10.2.100 | grep -oP \"(?<=dev )[^ ]+\") root netem loss 10%')"
   ],
   "id": "48310c95-1258-4c0d-abf4-b88e9d66614f"
  },
  {
   "cell_type": "markdown",
   "metadata": {},
   "source": [
    "Validate that the `ping` results now show packet loss:"
   ],
   "id": "dd190e43-ed18-418a-8fb1-56c5b3cb67d7"
  },
  {
   "cell_type": "code",
   "execution_count": null,
   "metadata": {},
   "outputs": [],
   "source": [
    "remote_romeo.run('ping -c 60 juliet')"
   ],
   "id": "d09dfe38-928b-405b-97b7-a039495c9d58"
  },
  {
   "cell_type": "markdown",
   "metadata": {},
   "source": [
    "We can specify both `delay` and `loss` together in a `netem`. For example, if we want to delete any existing `tc` elements and then add:\n",
    "\n",
    "-   10ms delay with 5ms variation and 10% packet loss to packets from “romeo” to “juliet”\n",
    "-   and 10ms delay with 5ms variation to packets from “juliet” to “romeo”\n",
    "\n",
    "we could do:"
   ],
   "id": "2dbef20f-8e66-4925-910d-19064c27ba1b"
  },
  {
   "cell_type": "code",
   "execution_count": null,
   "metadata": {},
   "outputs": [],
   "source": [
    "remote_router.run('sudo tc qdisc del dev $(ip route get 10.10.1.100 | grep -oP \"(?<=dev )[^ ]+\") root')"
   ],
   "id": "79026763-9962-43b2-b8dc-18758f270bf6"
  },
  {
   "cell_type": "code",
   "execution_count": null,
   "metadata": {},
   "outputs": [],
   "source": [
    "remote_router.run('sudo tc qdisc del dev $(ip route get 10.10.2.100 | grep -oP \"(?<=dev )[^ ]+\") root')"
   ],
   "id": "14ec90dc-03ea-4f55-bf02-76778a1687dd"
  },
  {
   "cell_type": "code",
   "execution_count": null,
   "metadata": {},
   "outputs": [],
   "source": [
    "remote_router.run('sudo tc qdisc add dev $(ip route get 10.10.1.100 | grep -oP \"(?<=dev )[^ ]+\") root netem delay 10ms 5ms')"
   ],
   "id": "15478cab-bfc8-401f-9f50-4465b5f27e86"
  },
  {
   "cell_type": "code",
   "execution_count": null,
   "metadata": {},
   "outputs": [],
   "source": [
    "remote_router.run('sudo tc qdisc add dev $(ip route get 10.10.2.100 | grep -oP \"(?<=dev )[^ ]+\") root netem delay 10ms 5ms loss 10%')"
   ],
   "id": "9f2ddfa4-d407-4dcf-a571-2e9f0e666015"
  },
  {
   "cell_type": "markdown",
   "metadata": {},
   "source": [
    "Validate that the `ping` results now show the added delay *and* the packet loss:"
   ],
   "id": "9831a576-af4d-45a5-8851-b380459a7b80"
  },
  {
   "cell_type": "code",
   "execution_count": null,
   "metadata": {},
   "outputs": [],
   "source": [
    "remote_romeo.run('ping -c 60 juliet')"
   ],
   "id": "46bdd6ae-a21b-4322-a7dd-09da1e91986c"
  },
  {
   "cell_type": "markdown",
   "metadata": {},
   "source": [
    "To slow down the data rate of the network, we prefer to use a different `tc` element, named `htb`. Let’s delete our `netem` element, and then try to add an `htb` that limits the rate of the data transfer from “romeo” to “juliet” to 100 Mbps. As packets arrive at the router, they will wait in a queue (in the order in which they arrived, so FIFO - first in, first out), and they will be released only at a rate of 100 Mbps. Also, the queue size will be limited to 0.5 MByte, so once packets arrive at the queue and find it to be full, they will be dropped. This will indicate to the sender (“romeo”) that it should slow down its sending rate."
   ],
   "id": "1b71ccf6-1908-46f8-a901-ef572521409f"
  },
  {
   "cell_type": "code",
   "execution_count": null,
   "metadata": {},
   "outputs": [],
   "source": [
    "remote_router.run('sudo tc qdisc del dev $(ip route get 10.10.1.100 | grep -oP \"(?<=dev )[^ ]+\") root')"
   ],
   "id": "4c678ad9-197d-4382-b3ec-963e993a86c6"
  },
  {
   "cell_type": "code",
   "execution_count": null,
   "metadata": {},
   "outputs": [],
   "source": [
    "remote_router.run('sudo tc qdisc del dev $(ip route get 10.10.2.100 | grep -oP \"(?<=dev )[^ ]+\") root')"
   ],
   "id": "b7ba102e-f6f5-4674-8f33-a495258863f1"
  },
  {
   "cell_type": "code",
   "execution_count": null,
   "metadata": {},
   "outputs": [],
   "source": [
    "remote_router.run('sudo tc qdisc add dev $(ip route get 10.10.2.100 | grep -oP \"(?<=dev )[^ ]+\") root handle 1: htb default 3')\n",
    "remote_router.run('sudo tc class add dev $(ip route get 10.10.2.100 | grep -oP \"(?<=dev )[^ ]+\") parent 1: classid 1:3 htb rate 100Mbit')\n",
    "remote_router.run('sudo tc qdisc add dev $(ip route get 10.10.2.100 | grep -oP \"(?<=dev )[^ ]+\") parent 1:3 handle 3: bfifo limit 0.5MB')\n"
   ],
   "id": "de5c5653-cccc-43bc-8424-e6d42e14c463"
  },
  {
   "cell_type": "markdown",
   "metadata": {},
   "source": [
    "We will validate the change using `iperf3` to generate a data flow from “romeo” to “juliet” - we should see a data rate that is just a little bit less than 100 Mbps."
   ],
   "id": "194d5fa6-920e-4f9d-8fea-b30b1de6a212"
  },
  {
   "cell_type": "code",
   "execution_count": null,
   "metadata": {},
   "outputs": [],
   "source": [
    "remote_juliet.run('iperf3 -s -1', disown=True)"
   ],
   "id": "a94e8c9f-37a8-4065-8d1a-2bc90b1a7fba"
  },
  {
   "cell_type": "code",
   "execution_count": null,
   "metadata": {},
   "outputs": [],
   "source": [
    "remote_romeo.run('iperf3 -c juliet')"
   ],
   "id": "2d0885ae-e898-4d7a-9eae-3bde95fada4f"
  },
  {
   "cell_type": "markdown",
   "metadata": {},
   "source": [
    "Finally, we can also add a `netem` element *after* an `htb` token bucket, to combine rate limiting along with delay (and/or packet loss)! Try the following sequence of commands:"
   ],
   "id": "30bb81bd-e661-43d2-8f94-f0fa1ad4ec38"
  },
  {
   "cell_type": "code",
   "execution_count": null,
   "metadata": {},
   "outputs": [],
   "source": [
    "remote_router.run('sudo tc qdisc del dev $(ip route get 10.10.1.100 | grep -oP \"(?<=dev )[^ ]+\") root')"
   ],
   "id": "aee69fdd-cfe3-4d90-b1d0-f00c36c43485"
  },
  {
   "cell_type": "code",
   "execution_count": null,
   "metadata": {},
   "outputs": [],
   "source": [
    "remote_router.run('sudo tc qdisc del dev $(ip route get 10.10.2.100 | grep -oP \"(?<=dev )[^ ]+\") root')"
   ],
   "id": "dae1a9be-b01d-47a8-91e2-10b1839b4c01"
  },
  {
   "cell_type": "code",
   "execution_count": null,
   "metadata": {},
   "outputs": [],
   "source": [
    "# only add delay to the direction from \"juliet\" toward \"romeo\"\n",
    "remote_router.run('sudo tc qdisc add dev $(ip route get 10.10.1.100 | grep -oP \"(?<=dev )[^ ]+\") root netem delay 10ms')"
   ],
   "id": "e6e5cc78-002b-4fb8-8619-fb36cf77cd52"
  },
  {
   "cell_type": "code",
   "execution_count": null,
   "metadata": {},
   "outputs": [],
   "source": [
    "# add delay and also rate limiting in the direction from \"romeo\" toward \"juliet\"\n",
    "remote_router.run('sudo tc qdisc add dev $(ip route get 10.10.2.100 | grep -oP \"(?<=dev )[^ ]+\") root handle 1: htb default 3')\n",
    "remote_router.run('sudo tc class add dev $(ip route get 10.10.2.100 | grep -oP \"(?<=dev )[^ ]+\") parent 1: classid 1:3 htb rate 100Mbit')\n",
    "remote_router.run('sudo tc qdisc add dev $(ip route get 10.10.2.100 | grep -oP \"(?<=dev )[^ ]+\") parent 1:3 handle 3: netem delay 10ms')\n",
    "remote_router.run('sudo tc qdisc add dev $(ip route get 10.10.2.100 | grep -oP \"(?<=dev )[^ ]+\") parent 3: bfifo limit 0.5MB')"
   ],
   "id": "b4f337ec-7889-48d5-a77b-f4ea58334732"
  },
  {
   "cell_type": "markdown",
   "metadata": {},
   "source": [
    "and, validate the change:"
   ],
   "id": "e73c7230-096e-46a7-83b4-f2d659f70274"
  },
  {
   "cell_type": "code",
   "execution_count": null,
   "metadata": {},
   "outputs": [],
   "source": [
    "remote_juliet.run('iperf3 -s -1', disown=True)"
   ],
   "id": "bb92b73d-b72b-4ee1-a59d-603e0663511c"
  },
  {
   "cell_type": "code",
   "execution_count": null,
   "metadata": {},
   "outputs": [],
   "source": [
    "remote_romeo.run('iperf3 -c juliet')"
   ],
   "id": "928098a6-1fc7-4665-95b7-404f0d0ea3bf"
  },
  {
   "cell_type": "code",
   "execution_count": null,
   "metadata": {},
   "outputs": [],
   "source": [
    "remote_romeo.run('ping -c 60 juliet')"
   ],
   "id": "a106ff6c-e5f4-42d1-977c-5e3a3e993598"
  },
  {
   "cell_type": "markdown",
   "metadata": {},
   "source": [
    "## Delete resources\n",
    "\n",
    "To free your resources, run the following cell:"
   ],
   "id": "cec7f390-6147-4f36-9d2f-1d53aee9679d"
  },
  {
   "cell_type": "code",
   "execution_count": null,
   "metadata": {},
   "outputs": [],
   "source": [
    "for server_id in [romeo_id, juliet_id, router_id]:\n",
    "    chi.server.delete_server(server_id)\n",
    "    \n",
    "for reserved_fip in [fip_romeo, fip_juliet, fip_router]:\n",
    "    ip_details = chi.network.get_floating_ip(reserved_fip)\n",
    "    chi.neutron().delete_floatingip(ip_details[\"id\"])\n",
    "    \n",
    "chi.network.remove_subnet_from_router(router.get(\"id\"), public_subnet.get(\"id\"))\n",
    "chi.network.delete_router(router.get(\"id\"))\n",
    "\n",
    "chi.network.delete_subnet(public_subnet.get('id'))\n",
    "chi.network.delete_network(public_net.get(\"id\"))\n",
    "\n",
    "chi.network.delete_subnet(exp_subnet_1.get('id'))\n",
    "chi.network.delete_network(exp_net_1.get(\"id\"))\n",
    "\n",
    "chi.network.delete_subnet(exp_subnet_2.get('id'))\n",
    "chi.network.delete_network(exp_net_2.get(\"id\"))"
   ],
   "id": "9d096a0a-12d3-4e3f-aba0-c3d858afde75"
  }
 ],
 "nbformat": 4,
 "nbformat_minor": 5,
 "metadata": {}
}
